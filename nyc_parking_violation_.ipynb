{
  "cells": [
    {
      "cell_type": "markdown",
      "metadata": {
        "id": "8NVsFdbVF9KO"
      },
      "source": [
        "#DATA CLEANING"
      ]
    },
    {
      "cell_type": "code",
      "execution_count": null,
      "metadata": {
        "id": "_r-S6XhMpFL5"
      },
      "outputs": [],
      "source": [
        "import warnings\n",
        "warnings.filterwarnings('ignore')\n",
        "# Import the numpy, pandas, datetime, matplotlib, & seaborn packages\n",
        "\n",
        "import numpy as np\n",
        "import pandas as pd\n",
        "import datetime\n",
        "import matplotlib.pyplot as plt\n",
        "import seaborn as sns\n",
        "sns.set_style(\"whitegrid\", {'axes.grid' : False})"
      ]
    },
    {
      "cell_type": "code",
      "execution_count": null,
      "metadata": {
        "colab": {
          "base_uri": "https://localhost:8080/"
        },
        "id": "YKUOGcz9qi_g",
        "outputId": "e12c3d02-cdbe-486a-fde1-b7a05d324dd4"
      },
      "outputs": [
        {
          "name": "stdout",
          "output_type": "stream",
          "text": [
            "Drive already mounted at /content/drive; to attempt to forcibly remount, call drive.mount(\"/content/drive\", force_remount=True).\n"
          ]
        }
      ],
      "source": [
        "from google.colab import drive\n",
        "drive.mount('/content/drive')"
      ]
    },
    {
      "cell_type": "code",
      "execution_count": null,
      "metadata": {
        "colab": {
          "base_uri": "https://localhost:8080/"
        },
        "id": "0sEzkGixrYOT",
        "outputId": "66255030-ad45-4673-c253-be19a0d84790"
      },
      "outputs": [
        {
          "name": "stdout",
          "output_type": "stream",
          "text": [
            "Looking in indexes: https://pypi.org/simple, https://us-python.pkg.dev/colab-wheels/public/simple/\n",
            "Requirement already satisfied: pyspark in /usr/local/lib/python3.10/dist-packages (3.4.0)\n",
            "Requirement already satisfied: py4j==0.10.9.7 in /usr/local/lib/python3.10/dist-packages (from pyspark) (0.10.9.7)\n"
          ]
        }
      ],
      "source": [
        "!pip install pyspark"
      ]
    },
    {
      "cell_type": "code",
      "execution_count": null,
      "metadata": {
        "colab": {
          "base_uri": "https://localhost:8080/"
        },
        "id": "sM2Y3vX1pS8f",
        "outputId": "5d167cd3-1811-4d92-fcb6-5c203e8b351c"
      },
      "outputs": [
        {
          "data": {
            "text/plain": [
              "DataFrame[Summons Number: bigint, Plate ID: string, Registration State: string, Plate Type: string, Issue Date: string, Violation Code: int, Vehicle Body Type: string, Vehicle Make: string, Issuing Agency: string, Street Code1: int, Street Code2: int, Street Code3: int, Vehicle Expiration Date: int, Violation Location: int, Violation Precinct: int, Issuer Precinct: int, Issuer Code: int, Issuer Command: string, Issuer Squad: string, Violation Time: string, Time First Observed: string, Violation County: string, Violation In Front Of Or Opposite: string, House Number: string, Street Name: string, Intersecting Street: string, Date First Observed: int, Law Section: int, Sub Division: string, Violation Legal Code: string, Days Parking In Effect: string, From Hours In Effect: string, To Hours In Effect: string, Vehicle Color: string, Unregistered Vehicle?: int, Vehicle Year: int, Meter Number: string, Feet From Curb: int, Violation Post Code: string, Violation Description: string, No Standing or Stopping Violation: string, Hydrant Violation: string, Double Parking Violation: string]"
            ]
          },
          "execution_count": 14,
          "metadata": {},
          "output_type": "execute_result"
        }
      ],
      "source": [
        "# Create a spark session\n",
        "\n",
        "from pyspark.sql import SparkSession\n",
        "spark = SparkSession.builder.appName('NYC Parking Data Analysis').getOrCreate()\n",
        "# Read the csv file\n",
        "\n",
        "parking_df = spark.read.format(\"csv\")\\\n",
        "                  .option(\"header\", \"true\")\\\n",
        "                  .option(\"inferSchema\", \"true\")\\\n",
        "                  .load(\"/content/drive/MyDrive/Parking_Violations_Issued_-_Fiscal_Year_2022.csv\")\n",
        "\n",
        "parking_df"
      ]
    },
    {
      "cell_type": "code",
      "execution_count": null,
      "metadata": {
        "colab": {
          "base_uri": "https://localhost:8080/"
        },
        "id": "FgvyxOSMsi5o",
        "outputId": "bc5942dc-2823-451c-e337-37fdb1e38570"
      },
      "outputs": [
        {
          "name": "stdout",
          "output_type": "stream",
          "text": [
            "root\n",
            " |-- Summons Number: long (nullable = true)\n",
            " |-- Plate ID: string (nullable = true)\n",
            " |-- Registration State: string (nullable = true)\n",
            " |-- Plate Type: string (nullable = true)\n",
            " |-- Issue Date: string (nullable = true)\n",
            " |-- Violation Code: integer (nullable = true)\n",
            " |-- Vehicle Body Type: string (nullable = true)\n",
            " |-- Vehicle Make: string (nullable = true)\n",
            " |-- Issuing Agency: string (nullable = true)\n",
            " |-- Street Code1: integer (nullable = true)\n",
            " |-- Street Code2: integer (nullable = true)\n",
            " |-- Street Code3: integer (nullable = true)\n",
            " |-- Vehicle Expiration Date: integer (nullable = true)\n",
            " |-- Violation Location: integer (nullable = true)\n",
            " |-- Violation Precinct: integer (nullable = true)\n",
            " |-- Issuer Precinct: integer (nullable = true)\n",
            " |-- Issuer Code: integer (nullable = true)\n",
            " |-- Issuer Command: string (nullable = true)\n",
            " |-- Issuer Squad: string (nullable = true)\n",
            " |-- Violation Time: string (nullable = true)\n",
            " |-- Time First Observed: string (nullable = true)\n",
            " |-- Violation County: string (nullable = true)\n",
            " |-- Violation In Front Of Or Opposite: string (nullable = true)\n",
            " |-- House Number: string (nullable = true)\n",
            " |-- Street Name: string (nullable = true)\n",
            " |-- Intersecting Street: string (nullable = true)\n",
            " |-- Date First Observed: integer (nullable = true)\n",
            " |-- Law Section: integer (nullable = true)\n",
            " |-- Sub Division: string (nullable = true)\n",
            " |-- Violation Legal Code: string (nullable = true)\n",
            " |-- Days Parking In Effect: string (nullable = true)\n",
            " |-- From Hours In Effect: string (nullable = true)\n",
            " |-- To Hours In Effect: string (nullable = true)\n",
            " |-- Vehicle Color: string (nullable = true)\n",
            " |-- Unregistered Vehicle?: integer (nullable = true)\n",
            " |-- Vehicle Year: integer (nullable = true)\n",
            " |-- Meter Number: string (nullable = true)\n",
            " |-- Feet From Curb: integer (nullable = true)\n",
            " |-- Violation Post Code: string (nullable = true)\n",
            " |-- Violation Description: string (nullable = true)\n",
            " |-- No Standing or Stopping Violation: string (nullable = true)\n",
            " |-- Hydrant Violation: string (nullable = true)\n",
            " |-- Double Parking Violation: string (nullable = true)\n",
            "\n"
          ]
        }
      ],
      "source": [
        "# Show the schema for datatypes\n",
        "\n",
        "parking_df.printSchema()"
      ]
    },
    {
      "cell_type": "code",
      "execution_count": null,
      "metadata": {
        "colab": {
          "base_uri": "https://localhost:8080/"
        },
        "id": "GEa0mv9fskUK",
        "outputId": "4421e5fe-a93c-4e67-ce8c-79bb37b05cbd"
      },
      "outputs": [
        {
          "data": {
            "text/plain": [
              "15435607"
            ]
          },
          "execution_count": 6,
          "metadata": {},
          "output_type": "execute_result"
        }
      ],
      "source": [
        "# Check for the number of rows \n",
        "\n",
        "parking_df.count()\n",
        "\n"
      ]
    },
    {
      "cell_type": "code",
      "execution_count": null,
      "metadata": {
        "colab": {
          "base_uri": "https://localhost:8080/"
        },
        "id": "nczbIOVcs45J",
        "outputId": "0809068b-2e04-4014-c1e7-a787444bccc7"
      },
      "outputs": [
        {
          "data": {
            "text/plain": [
              "43"
            ]
          },
          "execution_count": 7,
          "metadata": {},
          "output_type": "execute_result"
        }
      ],
      "source": [
        "# Check for number of columns\n",
        "\n",
        "len(parking_df.columns)"
      ]
    },
    {
      "cell_type": "code",
      "execution_count": null,
      "metadata": {
        "colab": {
          "base_uri": "https://localhost:8080/"
        },
        "id": "f4k7gnmHs7oC",
        "outputId": "df0a3c69-f1cf-460a-8564-e1be60042d57"
      },
      "outputs": [
        {
          "name": "stdout",
          "output_type": "stream",
          "text": [
            "+--------------+--------+------------------+----------+----------+--------------+-----------------+------------+--------------+------------+------------+------------+-----------------------+------------------+------------------+---------------+-----------+--------------+------------+--------------+-------------------+----------------+---------------------------------+------------+------------------+-------------------+-------------------+-----------+------------+--------------------+----------------------+--------------------+------------------+-------------+---------------------+------------+------------+--------------+-------------------+---------------------+---------------------------------+-----------------+------------------------+\n",
            "|Summons Number|Plate ID|Registration State|Plate Type|Issue Date|Violation Code|Vehicle Body Type|Vehicle Make|Issuing Agency|Street Code1|Street Code2|Street Code3|Vehicle Expiration Date|Violation Location|Violation Precinct|Issuer Precinct|Issuer Code|Issuer Command|Issuer Squad|Violation Time|Time First Observed|Violation County|Violation In Front Of Or Opposite|House Number|       Street Name|Intersecting Street|Date First Observed|Law Section|Sub Division|Violation Legal Code|Days Parking In Effect|From Hours In Effect|To Hours In Effect|Vehicle Color|Unregistered Vehicle?|Vehicle Year|Meter Number|Feet From Curb|Violation Post Code|Violation Description|No Standing or Stopping Violation|Hydrant Violation|Double Parking Violation|\n",
            "+--------------+--------+------------------+----------+----------+--------------+-----------------+------------+--------------+------------+------------+------------+-----------------------+------------------+------------------+---------------+-----------+--------------+------------+--------------+-------------------+----------------+---------------------------------+------------+------------------+-------------------+-------------------+-----------+------------+--------------------+----------------------+--------------------+------------------+-------------+---------------------+------------+------------+--------------+-------------------+---------------------+---------------------------------+-----------------+------------------------+\n",
            "|    1457617912| JEB5683|                NY|       PAS|06/25/2021|            40|              VAN|        FORD|             P|       63430|       69230|       13490|               20221004|                88|                88|             88|     967603|          0088|        0000|         0130A|              0125A|               K|                                O|         100|NORTH PORTLAND AVE|               null|                  0|        408|          C4|                null|               BBBBBBB|                 ALL|               ALL|           GY|                    0|        2007|           -|             3|               null|                 null|                             null|             null|                    null|\n",
            "|    1457617924| JAN2986|                NY|       PAS|06/25/2021|            20|             SUBN|       DODGE|             P|       13490|       40404|       40404|               20221203|                88|                88|             88|     967603|          0088|        0000|         0225A|              0215A|               K|                                F|         398|      AUBURN PLACE|               null|           20210625|        408|          E2|                null|               BBBBBBB|                 ALL|               ALL|          BLU|                    0|        2007|           -|             0|               null|                 null|                             null|             null|                    null|\n",
            "|    1457622427| FJH6630|                TX|       PAS|06/17/2021|            98|              SDN|        AUDI|             P|       79430|       47130|       11750|                      0|                88|                88|             88|     969730|          0088|        0000|         0809P|               null|               K|                                F|         170|SOUTH PORTLAND AVE|               null|                  0|        408|          E2|                null|               BBBBBBB|                 ALL|               ALL|        WHITE|                    0|           0|           -|             0|               null|                 null|                             null|             null|                    null|\n",
            "|    1457638629|  RD1Y5N|                MO|       PAS|06/16/2021|            98|              SDN|       TOYOT|             P|       53130|       23230|       23930|                      0|                83|                83|             83|     944434|          0083|        0000|         0605P|               null|               K|                                F|          22|      JEFFERSON ST|               null|                  0|        408|          C4|                null|               BBBBBBB|                 ALL|               ALL|          TAN|                    0|        2001|           -|             0|               null|                 null|                             null|             null|                    null|\n",
            "|    1457639580|T503814C|                NY|       OMT|07/04/2021|            40|             TAXI|       HONDA|             P|       81030|       23930|       40030|               20210831|                83|                83|             83|     962452|          0083|        0000|         1058P|               null|               K|                                F|          25|       STANHOPE ST|               null|                  0|        408|          F2|                null|               BBBBBBB|                 ALL|               ALL|          WHI|                    0|        2020|           -|             0|               null|                 null|                             null|             null|                    null|\n",
            "+--------------+--------+------------------+----------+----------+--------------+-----------------+------------+--------------+------------+------------+------------+-----------------------+------------------+------------------+---------------+-----------+--------------+------------+--------------+-------------------+----------------+---------------------------------+------------+------------------+-------------------+-------------------+-----------+------------+--------------------+----------------------+--------------------+------------------+-------------+---------------------+------------+------------+--------------+-------------------+---------------------+---------------------------------+-----------------+------------------------+\n",
            "only showing top 5 rows\n",
            "\n"
          ]
        }
      ],
      "source": [
        "# Display the first 5 rows of data\n",
        "\n",
        "parking_df.show(5)"
      ]
    },
    {
      "cell_type": "code",
      "execution_count": null,
      "metadata": {
        "id": "ts0aTWcUs_IR"
      },
      "outputs": [],
      "source": [
        "# Show the statistics\n",
        "\n",
        "parking_df.describe().show()"
      ]
    },
    {
      "cell_type": "code",
      "execution_count": null,
      "metadata": {
        "colab": {
          "base_uri": "https://localhost:8080/"
        },
        "id": "GW6llr40tAlG",
        "outputId": "b711fe08-03be-417c-a1ba-82e33e38a131"
      },
      "outputs": [
        {
          "name": "stdout",
          "output_type": "stream",
          "text": [
            "+--------------+--------+------------------+----------+----------+--------------+-----------------+------------+--------------+------------+------------+------------+-----------------------+------------------+------------------+---------------+-----------+--------------+------------+--------------+-------------------+----------------+---------------------------------+------------+------------------+-------------------+-------------------+-----------+------------+--------------------+----------------------+--------------------+------------------+-------------+---------------------+------------+------------+--------------+-------------------+---------------------+---------------------------------+-----------------+------------------------+\n",
            "|Summons_Number|Plate_ID|Registration_State|Plate_Type|Issue_Date|Violation_Code|Vehicle_Body_Type|Vehicle_Make|Issuing_Agency|Street_Code1|Street_Code2|Street_Code3|Vehicle_Expiration_Date|Violation_Location|Violation_Precinct|Issuer_Precinct|Issuer_Code|Issuer_Command|Issuer_Squad|Violation_Time|Time_First_Observed|Violation_County|Violation_In_Front_Of_Or_Opposite|House_Number|       Street_Name|Intersecting_Street|Date_First_Observed|Law_Section|Sub_Division|Violation_Legal_Code|Days_Parking_In_Effect|From_Hours_In_Effect|To_Hours_In_Effect|Vehicle_Color|Unregistered_Vehicle?|Vehicle_Year|Meter_Number|Feet_From_Curb|Violation_Post_Code|Violation_Description|No_Standing_or_Stopping_Violation|Hydrant_Violation|Double_Parking_Violation|\n",
            "+--------------+--------+------------------+----------+----------+--------------+-----------------+------------+--------------+------------+------------+------------+-----------------------+------------------+------------------+---------------+-----------+--------------+------------+--------------+-------------------+----------------+---------------------------------+------------+------------------+-------------------+-------------------+-----------+------------+--------------------+----------------------+--------------------+------------------+-------------+---------------------+------------+------------+--------------+-------------------+---------------------+---------------------------------+-----------------+------------------------+\n",
            "|    1457617912| JEB5683|                NY|       PAS|06/25/2021|            40|              VAN|        FORD|             P|       63430|       69230|       13490|               20221004|                88|                88|             88|     967603|          0088|        0000|         0130A|              0125A|               K|                                O|         100|NORTH PORTLAND AVE|               null|                  0|        408|          C4|                null|               BBBBBBB|                 ALL|               ALL|           GY|                    0|        2007|           -|             3|               null|                 null|                             null|             null|                    null|\n",
            "|    1457617924| JAN2986|                NY|       PAS|06/25/2021|            20|             SUBN|       DODGE|             P|       13490|       40404|       40404|               20221203|                88|                88|             88|     967603|          0088|        0000|         0225A|              0215A|               K|                                F|         398|      AUBURN PLACE|               null|           20210625|        408|          E2|                null|               BBBBBBB|                 ALL|               ALL|          BLU|                    0|        2007|           -|             0|               null|                 null|                             null|             null|                    null|\n",
            "|    1457622427| FJH6630|                TX|       PAS|06/17/2021|            98|              SDN|        AUDI|             P|       79430|       47130|       11750|                      0|                88|                88|             88|     969730|          0088|        0000|         0809P|               null|               K|                                F|         170|SOUTH PORTLAND AVE|               null|                  0|        408|          E2|                null|               BBBBBBB|                 ALL|               ALL|        WHITE|                    0|           0|           -|             0|               null|                 null|                             null|             null|                    null|\n",
            "|    1457638629|  RD1Y5N|                MO|       PAS|06/16/2021|            98|              SDN|       TOYOT|             P|       53130|       23230|       23930|                      0|                83|                83|             83|     944434|          0083|        0000|         0605P|               null|               K|                                F|          22|      JEFFERSON ST|               null|                  0|        408|          C4|                null|               BBBBBBB|                 ALL|               ALL|          TAN|                    0|        2001|           -|             0|               null|                 null|                             null|             null|                    null|\n",
            "|    1457639580|T503814C|                NY|       OMT|07/04/2021|            40|             TAXI|       HONDA|             P|       81030|       23930|       40030|               20210831|                83|                83|             83|     962452|          0083|        0000|         1058P|               null|               K|                                F|          25|       STANHOPE ST|               null|                  0|        408|          F2|                null|               BBBBBBB|                 ALL|               ALL|          WHI|                    0|        2020|           -|             0|               null|                 null|                             null|             null|                    null|\n",
            "+--------------+--------+------------------+----------+----------+--------------+-----------------+------------+--------------+------------+------------+------------+-----------------------+------------------+------------------+---------------+-----------+--------------+------------+--------------+-------------------+----------------+---------------------------------+------------+------------------+-------------------+-------------------+-----------+------------+--------------------+----------------------+--------------------+------------------+-------------+---------------------+------------+------------+--------------+-------------------+---------------------+---------------------------------+-----------------+------------------------+\n",
            "only showing top 5 rows\n",
            "\n"
          ]
        }
      ],
      "source": [
        "# Replace ' ' with '_' in column headers so as to avoid any issues while using the queries...\n",
        "\n",
        "parking_df = parking_df.toDF(*(colName.replace(' ', '_') for colName in parking_df.columns))\n",
        "parking_df.show(5)"
      ]
    },
    {
      "cell_type": "code",
      "execution_count": null,
      "metadata": {
        "colab": {
          "base_uri": "https://localhost:8080/"
        },
        "id": "L1k2hYnF7n2_",
        "outputId": "f7736845-4bb8-42ac-9137-9ff411a2628a"
      },
      "outputs": [
        {
          "name": "stdout",
          "output_type": "stream",
          "text": [
            "Vehicle_Body_Type column has 33128 missing values\n",
            "Vehicle_Make column has 10689 missing values\n",
            "Violation_Location column has 6035566 missing values\n",
            "Issuer_Command column has 6030198 missing values\n",
            "Issuer_Squad column has 6424789 missing values\n",
            "Violation_Time column has 177 missing values\n",
            "Time_First_Observed column has 14643865 missing values\n",
            "Violation_County column has 37194 missing values\n",
            "Violation_In_Front_Of_Or_Opposite column has 6097273 missing values\n",
            "House_Number column has 6164206 missing values\n",
            "Street_Name column has 1517 missing values\n",
            "Intersecting_Street column has 7990868 missing values\n",
            "Sub_Division column has 2165 missing values\n",
            "Violation_Legal_Code column has 9405407 missing values\n",
            "Days_Parking_In_Effect column has 6150607 missing values\n",
            "From_Hours_In_Effect column has 10441351 missing values\n",
            "To_Hours_In_Effect column has 10441373 missing values\n",
            "Vehicle_Color column has 1019839 missing values\n",
            "Unregistered_Vehicle? column has 15118764 missing values\n",
            "Meter_Number column has 13533799 missing values\n",
            "Violation_Post_Code column has 6741551 missing values\n",
            "Violation_Description column has 317788 missing values\n",
            "No_Standing_or_Stopping_Violation column has 15435607 missing values\n",
            "Hydrant_Violation column has 15435607 missing values\n",
            "Double_Parking_Violation column has 15435607 missing values\n"
          ]
        }
      ],
      "source": [
        "import pyspark.sql.functions as F\n",
        "# Check for missing/null values in each column\n",
        "null_cols = parking_df.select([F.count(F.when(F.col(c).isNull(), c)).alias(c) for c in parking_df.columns]).toPandas()\n",
        "\n",
        "# Print column names with missing/null values\n",
        "for col in null_cols.columns:\n",
        "    if null_cols[col][0] > 0:\n",
        "        print(f\"{col} column has {null_cols[col][0]} missing values\")\n"
      ]
    },
    {
      "cell_type": "code",
      "execution_count": null,
      "metadata": {
        "id": "ULo9CTdexjy0"
      },
      "outputs": [],
      "source": [
        "# Set the threshold for missing values\n",
        "threshold = 0.9\n",
        "\n",
        "# Get the total number of rows in the DataFrame\n",
        "total_rows = parking_df.count()\n",
        "\n",
        "# Get the names of columns with missing values exceeding the threshold\n",
        "cols_to_drop = []\n",
        "for col in null_cols.columns:\n",
        "    if null_cols[col][0] / total_rows > threshold:\n",
        "        cols_to_drop.append(col)\n",
        "\n",
        "# Drop the columns with missing values exceeding the threshold\n",
        "parking_df_1 = parking_df.drop(*cols_to_drop)\n"
      ]
    },
    {
      "cell_type": "code",
      "execution_count": null,
      "metadata": {
        "colab": {
          "base_uri": "https://localhost:8080/"
        },
        "id": "UcOEsUzIyEh_",
        "outputId": "b4abc716-e85c-4d17-cc42-f3b36b68098a"
      },
      "outputs": [
        {
          "name": "stdout",
          "output_type": "stream",
          "text": [
            "Columns dropped:\n",
            "Time_First_Observed\n",
            "Unregistered_Vehicle?\n",
            "No_Standing_or_Stopping_Violation\n",
            "Hydrant_Violation\n",
            "Double_Parking_Violation\n"
          ]
        }
      ],
      "source": [
        "# Print the columns dropped\n",
        "print(\"Columns dropped:\")\n",
        "for col in cols_to_drop:\n",
        "    print(col)\n",
        "\n"
      ]
    },
    {
      "cell_type": "code",
      "execution_count": null,
      "metadata": {
        "colab": {
          "base_uri": "https://localhost:8080/"
        },
        "id": "eUK8cl9-y1rV",
        "outputId": "191f99cc-82fc-4a1d-ea41-663c2626b46e"
      },
      "outputs": [
        {
          "name": "stdout",
          "output_type": "stream",
          "text": [
            "\n",
            "Columns of the new DataFrame:\n",
            "Summons_Number\n",
            "Plate_ID\n",
            "Registration_State\n",
            "Plate_Type\n",
            "Issue_Date\n",
            "Violation_Code\n",
            "Vehicle_Body_Type\n",
            "Vehicle_Make\n",
            "Issuing_Agency\n",
            "Street_Code1\n",
            "Street_Code2\n",
            "Street_Code3\n",
            "Vehicle_Expiration_Date\n",
            "Violation_Location\n",
            "Violation_Precinct\n",
            "Issuer_Precinct\n",
            "Issuer_Code\n",
            "Issuer_Command\n",
            "Issuer_Squad\n",
            "Violation_Time\n",
            "Violation_County\n",
            "Violation_In_Front_Of_Or_Opposite\n",
            "House_Number\n",
            "Street_Name\n",
            "Intersecting_Street\n",
            "Date_First_Observed\n",
            "Law_Section\n",
            "Sub_Division\n",
            "Violation_Legal_Code\n",
            "Days_Parking_In_Effect\n",
            "From_Hours_In_Effect\n",
            "To_Hours_In_Effect\n",
            "Vehicle_Color\n",
            "Vehicle_Year\n",
            "Meter_Number\n",
            "Feet_From_Curb\n",
            "Violation_Post_Code\n",
            "Violation_Description\n"
          ]
        }
      ],
      "source": [
        "# Print the columns of the new DataFrame\n",
        "print(\"\\nColumns of the new DataFrame:\")\n",
        "for col in parking_df_1.columns:\n",
        "    print(col)"
      ]
    },
    {
      "cell_type": "code",
      "execution_count": null,
      "metadata": {
        "colab": {
          "base_uri": "https://localhost:8080/",
          "height": 53
        },
        "id": "tpH4Mrv_tEwI",
        "outputId": "8a88b58c-50e9-4812-8435-f9f5fb4fd2bf"
      },
      "outputs": [
        {
          "data": {
            "application/vnd.google.colaboratory.intrinsic+json": {
              "type": "string"
            },
            "text/plain": [
              "\"# Remove null values\\n\\n# Check the count before dropping null values\\nprint('Count before dropping null values : ', parking_df.count())\\n\\n# drop null values\\nparking_df = parking_df.na.drop()\\n\\n# Check the count after dropping the null values\\nprint('Count after dropping null values  : ', parking_df.count())\""
            ]
          },
          "execution_count": 17,
          "metadata": {},
          "output_type": "execute_result"
        }
      ],
      "source": [
        "\"\"\"# Remove null values\n",
        "\n",
        "# Check the count before dropping null values\n",
        "print('Count before dropping null values : ', parking_df.count())\n",
        "\n",
        "# drop null values\n",
        "parking_df = parking_df.na.drop()\n",
        "\n",
        "# Check the count after dropping the null values\n",
        "print('Count after dropping null values  : ', parking_df.count())\"\"\""
      ]
    },
    {
      "cell_type": "code",
      "execution_count": null,
      "metadata": {
        "colab": {
          "base_uri": "https://localhost:8080/"
        },
        "id": "cSJD22x2tHtq",
        "outputId": "3bd7065c-5bd2-4f62-e284-07ce0e97be2c"
      },
      "outputs": [
        {
          "name": "stdout",
          "output_type": "stream",
          "text": [
            "Count before dropping duplicate summon numbers :  15435607\n",
            "Count before dropping duplicate summon numbers :  15435607\n"
          ]
        }
      ],
      "source": [
        "# Drop duplicate values based on the summons number column\n",
        "\n",
        "# Check the count before dropping duplicate summon numbers\n",
        "print('Count before dropping duplicate summon numbers : ', parking_df_1.count())\n",
        "\n",
        "# drop duplicate summon numbers\n",
        "parking_df_1.select('Summons_Number').dropDuplicates()\n",
        "\n",
        "# Check the count after dropping duplicate summon numbers\n",
        "print('Count before dropping duplicate summon numbers : ', parking_df_1.count())"
      ]
    },
    {
      "cell_type": "code",
      "execution_count": null,
      "metadata": {
        "colab": {
          "base_uri": "https://localhost:8080/"
        },
        "id": "cuI-4rEk4N4B",
        "outputId": "99861646-67d0-41cb-bd8f-606990b303d3"
      },
      "outputs": [
        {
          "name": "stdout",
          "output_type": "stream",
          "text": [
            "root\n",
            " |-- Summons_Number: long (nullable = true)\n",
            " |-- Plate_ID: string (nullable = true)\n",
            " |-- Registration_State: string (nullable = true)\n",
            " |-- Plate_Type: string (nullable = true)\n",
            " |-- Issue_Date: string (nullable = true)\n",
            " |-- Violation_Code: integer (nullable = true)\n",
            " |-- Vehicle_Body_Type: string (nullable = true)\n",
            " |-- Vehicle_Make: string (nullable = true)\n",
            " |-- Issuing_Agency: string (nullable = true)\n",
            " |-- Street_Code1: integer (nullable = true)\n",
            " |-- Street_Code2: integer (nullable = true)\n",
            " |-- Street_Code3: integer (nullable = true)\n",
            " |-- Vehicle_Expiration_Date: integer (nullable = true)\n",
            " |-- Violation_Location: integer (nullable = true)\n",
            " |-- Violation_Precinct: integer (nullable = true)\n",
            " |-- Issuer_Precinct: integer (nullable = true)\n",
            " |-- Issuer_Code: integer (nullable = true)\n",
            " |-- Issuer_Command: string (nullable = true)\n",
            " |-- Issuer_Squad: string (nullable = true)\n",
            " |-- Violation_Time: string (nullable = true)\n",
            " |-- Violation_County: string (nullable = true)\n",
            " |-- Violation_In_Front_Of_Or_Opposite: string (nullable = true)\n",
            " |-- House_Number: string (nullable = true)\n",
            " |-- Street_Name: string (nullable = true)\n",
            " |-- Intersecting_Street: string (nullable = true)\n",
            " |-- Date_First_Observed: integer (nullable = true)\n",
            " |-- Law_Section: integer (nullable = true)\n",
            " |-- Sub_Division: string (nullable = true)\n",
            " |-- Violation_Legal_Code: string (nullable = true)\n",
            " |-- Days_Parking_In_Effect: string (nullable = true)\n",
            " |-- From_Hours_In_Effect: string (nullable = true)\n",
            " |-- To_Hours_In_Effect: string (nullable = true)\n",
            " |-- Vehicle_Color: string (nullable = true)\n",
            " |-- Vehicle_Year: integer (nullable = true)\n",
            " |-- Meter_Number: string (nullable = true)\n",
            " |-- Feet_From_Curb: integer (nullable = true)\n",
            " |-- Violation_Post_Code: string (nullable = true)\n",
            " |-- Violation_Description: string (nullable = true)\n",
            "\n",
            "\n",
            "First 5 values of 'Vehicle_Body_Type' column and its datatype:\n",
            "+-----------------+\n",
            "|Vehicle_Body_Type|\n",
            "+-----------------+\n",
            "|              VAN|\n",
            "|             SUBN|\n",
            "|              SDN|\n",
            "|              SDN|\n",
            "|             TAXI|\n",
            "+-----------------+\n",
            "only showing top 5 rows\n",
            "\n",
            "root\n",
            " |-- Vehicle_Body_Type: string (nullable = true)\n",
            "\n",
            "\n",
            "First 5 values of 'Vehicle_Body_Type' column and its datatype:\n",
            "+------------+\n",
            "|Vehicle_Make|\n",
            "+------------+\n",
            "|        FORD|\n",
            "|       DODGE|\n",
            "|        AUDI|\n",
            "|       TOYOT|\n",
            "|       HONDA|\n",
            "+------------+\n",
            "only showing top 5 rows\n",
            "\n",
            "root\n",
            " |-- Vehicle_Make: string (nullable = true)\n",
            "\n",
            "\n",
            "First 5 values of 'Vehicle_Body_Type' column and its datatype:\n",
            "+------------------+\n",
            "|Violation_Location|\n",
            "+------------------+\n",
            "|                88|\n",
            "|                88|\n",
            "|                88|\n",
            "|                83|\n",
            "|                83|\n",
            "+------------------+\n",
            "only showing top 5 rows\n",
            "\n",
            "root\n",
            " |-- Violation_Location: integer (nullable = true)\n",
            "\n"
          ]
        }
      ],
      "source": [
        "# Print the schema to view the data types of all columns\n",
        "parking_df_1.printSchema()\n",
        "\n",
        "# Print the first 5 values of a column and its datatype\n",
        "column_name = 'Vehicle_Body_Type'\n",
        "print(f\"\\nFirst 5 values of '{column_name}' column and its datatype:\")\n",
        "parking_df_1.select(column_name).show(5)\n",
        "parking_df_1.select(column_name).printSchema()\n",
        "\n",
        "column_name_2 = 'Vehicle_Make'\n",
        "print(f\"\\nFirst 5 values of '{column_name}' column and its datatype:\")\n",
        "parking_df_1.select(column_name_2).show(5)\n",
        "parking_df_1.select(column_name_2).printSchema()\n",
        "\n",
        "column_name_3 = 'Violation_Location'\n",
        "print(f\"\\nFirst 5 values of '{column_name}' column and its datatype:\")\n",
        "parking_df_1.select(column_name_3).show(5)\n",
        "parking_df_1.select(column_name_3).printSchema()\n"
      ]
    },
    {
      "cell_type": "code",
      "execution_count": null,
      "metadata": {
        "id": "0JffXSm08fmJ"
      },
      "outputs": [],
      "source": [
        "parking_df_1 = parking_df_1.fillna({'Issuer_Command': 'unknown'})\n"
      ]
    },
    {
      "cell_type": "code",
      "execution_count": null,
      "metadata": {
        "id": "y09TOBJ_8hm_"
      },
      "outputs": [],
      "source": [
        "from pyspark.sql.functions import col\n",
        "\n",
        "mode = parking_df_1.select(col('Vehicle_Color')).groupBy('Vehicle_Color').count().orderBy('count', ascending=False).first()[0]\n",
        "parking_df_1 = parking_df_1.fillna({'Vehicle_Color': mode})\n"
      ]
    },
    {
      "cell_type": "code",
      "execution_count": null,
      "metadata": {
        "colab": {
          "base_uri": "https://localhost:8080/"
        },
        "id": "aSwYdp_o9Cfc",
        "outputId": "e49d9441-e852-462b-8c4b-92a115e51af5"
      },
      "outputs": [
        {
          "name": "stdout",
          "output_type": "stream",
          "text": [
            "\n",
            "First 5 values of 'Violation_Time' column and its datatype:\n",
            "+--------------+\n",
            "|Violation_Time|\n",
            "+--------------+\n",
            "|         0130A|\n",
            "|         0225A|\n",
            "|         0809P|\n",
            "|         0605P|\n",
            "|         1058P|\n",
            "+--------------+\n",
            "only showing top 5 rows\n",
            "\n",
            "root\n",
            " |-- Violation_Time: string (nullable = true)\n",
            "\n"
          ]
        }
      ],
      "source": [
        "column_name_4 = 'Violation_Time'\n",
        "print(f\"\\nFirst 5 values of '{column_name_4}' column and its datatype:\")\n",
        "parking_df_1.select(column_name_4).show(5)\n",
        "parking_df_1.select(column_name_4).printSchema()\n"
      ]
    },
    {
      "cell_type": "code",
      "execution_count": null,
      "metadata": {
        "colab": {
          "base_uri": "https://localhost:8080/",
          "height": 70
        },
        "id": "JfNqfYoO8mTJ",
        "outputId": "240bc270-936b-4021-a4a3-920ab5cacf2f"
      },
      "outputs": [
        {
          "data": {
            "application/vnd.google.colaboratory.intrinsic+json": {
              "type": "string"
            },
            "text/plain": [
              "\"we first fill missing values with '0', then convert the 'Violation_Time' column to a timestamp using the to_timestamp function. We then create a window to order the dataframe by date and use the last function to fill remaining missing values using linear interpolation. Finally, we fill any remaining missing values with '0'.\""
            ]
          },
          "execution_count": 23,
          "metadata": {},
          "output_type": "execute_result"
        }
      ],
      "source": [
        "from pyspark.sql.functions import col\n",
        "from pyspark.sql.window import Window\n",
        "from pyspark.sql import functions as F\n",
        "\n",
        "# Fill missing values with '0'\n",
        "parking_df_1 = parking_df_1.fillna({'Violation_Time': '0'})\n",
        "\n",
        "# Convert to timestamp\n",
        "parking_df_1 = parking_df_1.withColumn('Violation_Timestamp',\n",
        "    F.to_timestamp(parking_df_1['Violation_Time'], 'hhmma')\n",
        ")\n",
        "\n",
        "# Create a window to order by date\n",
        "w = Window.partitionBy('Plate_ID').orderBy('Violation_Timestamp')\n",
        "\n",
        "# Fill remaining missing values using linear interpolation\n",
        "parking_df_1 = parking_df_1.withColumn('Violation_Timestamp',\n",
        "    F.when(col('Violation_Timestamp') == '0', None).otherwise(col('Violation_Timestamp'))\n",
        ").withColumn('Violation_Timestamp', F.last('Violation_Timestamp', True).over(w)).fillna({'Violation_Timestamp': '0'})\n",
        "\n",
        "\"\"\"we first fill missing values with '0', then convert the 'Violation_Time' column to a timestamp using the to_timestamp function. We then create a window to order the dataframe by date and use the last function to fill remaining missing values using linear interpolation. Finally, we fill any remaining missing values with '0'.\"\"\""
      ]
    },
    {
      "cell_type": "code",
      "execution_count": null,
      "metadata": {
        "id": "4R6IdFXJ8oiG"
      },
      "outputs": [],
      "source": [
        "#parking_df_1 = parking_df_1.dropna()\n"
      ]
    },
    {
      "cell_type": "code",
      "execution_count": null,
      "metadata": {
        "colab": {
          "base_uri": "https://localhost:8080/"
        },
        "id": "me4CrOjc00R1",
        "outputId": "ce6328c3-ac60-4f40-f975-fb6097374e46"
      },
      "outputs": [
        {
          "name": "stdout",
          "output_type": "stream",
          "text": [
            "+--------------+--------+------------------+----------+----------+--------------+-----------------+------------+--------------+------------+------------+------------+-----------------------+------------------+------------------+---------------+-----------+--------------+------------+--------------+----------------+---------------------------------+------------+--------------+-------------------+-------------------+-----------+------------+--------------------+----------------------+--------------------+------------------+-------------+------------+------------+--------------+-------------------+---------------------+-------------------+\n",
            "|Summons_Number|Plate_ID|Registration_State|Plate_Type|Issue_Date|Violation_Code|Vehicle_Body_Type|Vehicle_Make|Issuing_Agency|Street_Code1|Street_Code2|Street_Code3|Vehicle_Expiration_Date|Violation_Location|Violation_Precinct|Issuer_Precinct|Issuer_Code|Issuer_Command|Issuer_Squad|Violation_Time|Violation_County|Violation_In_Front_Of_Or_Opposite|House_Number|   Street_Name|Intersecting_Street|Date_First_Observed|Law_Section|Sub_Division|Violation_Legal_Code|Days_Parking_In_Effect|From_Hours_In_Effect|To_Hours_In_Effect|Vehicle_Color|Vehicle_Year|Meter_Number|Feet_From_Curb|Violation_Post_Code|Violation_Description|Violation_Timestamp|\n",
            "+--------------+--------+------------------+----------+----------+--------------+-----------------+------------+--------------+------------+------------+------------+-----------------------+------------------+------------------+---------------+-----------+--------------+------------+--------------+----------------+---------------------------------+------------+--------------+-------------------+-------------------+-----------+------------+--------------------+----------------------+--------------------+------------------+-------------+------------+------------+--------------+-------------------+---------------------+-------------------+\n",
            "|    2005400671|  .LV91S|                NJ|       PAS|03/31/2022|            21|             2DSD|        MINI|             S|       32930|       38130|       23130|                      0|                73|                73|              0|     668676|          KNBO|        null|         1248A|           Kings|                                O|        9802| DITMAS AVENUE|               null|                  0|        408|          d1|                null|                  Y  Y|               1200A|             0300A|           BK|           0|        null|             0|               null| No Parking Street...|               null|\n",
            "|    8939725580| 0001CED|                DP|       PAS|09/19/2021|            19|             4DSD|       LEXUS|             T|       10910|       34430|       34450|               20218888|                10|                10|             10|     368899|          MTTF|           E|         1136A|              NY|                                F|         423|       9th Ave|               null|                  0|        408|          C3|                null|               YYYYYYY|                null|              null|        BLACK|           0|        null|             0|                 02| 19-No Stand (bus ...|               null|\n",
            "|    8936533990| 0001CED|                DP|       PAS|11/05/2021|            14|             4DSD|       LEXUS|             T|       25390|       17910|       17930|               20211288|                10|                10|             10|     364897|          MTTF|           E|         0538P|              NY|                                F|         390|   Madison Ave|               null|                  0|        408|           C|                null|                 YYYYY|               0400P|             0700P|        BLACK|           0|        null|             0|                 04|       14-No Standing|               null|\n",
            "|    8923413150| 0001CED|                DP|       PAS|02/24/2022|            14|             4DSD|       LEXUS|             T|       17890|       10210|       10110|               88888888|                17|                17|             17|     350401|          T106|           X|         1045A|              NY|                                F|         227|     E 45th St|               null|                  0|        408|           C|                null|                 YYYYY|               0700A|             0700P|        BLACK|           0|        null|             0|                 99|       14-No Standing|               null|\n",
            "|    8589163891| 0001CED|                DP|       PAS|04/01/2022|            31|             4DSD|       LEXUS|             T|       27800|       17570|       17590|               20221288|                14|                14|             14|     368517|          T102|           E|         0812A|              NY|                                F|         440|Park Ave South|               null|                  0|        408|          L3|                null|                 YYYYY|               0700A|             0700P|        BLACK|           0|        null|             0|                 99| 31-No Stand (Com....|               null|\n",
            "+--------------+--------+------------------+----------+----------+--------------+-----------------+------------+--------------+------------+------------+------------+-----------------------+------------------+------------------+---------------+-----------+--------------+------------+--------------+----------------+---------------------------------+------------+--------------+-------------------+-------------------+-----------+------------+--------------------+----------------------+--------------------+------------------+-------------+------------+------------+--------------+-------------------+---------------------+-------------------+\n",
            "only showing top 5 rows\n",
            "\n"
          ]
        }
      ],
      "source": [
        "parking_df_1.show(5)"
      ]
    },
    {
      "cell_type": "code",
      "execution_count": null,
      "metadata": {
        "colab": {
          "base_uri": "https://localhost:8080/",
          "height": 87
        },
        "id": "_O7slNft6jAu",
        "outputId": "4b1bf76e-0a42-414c-e2fb-1f3ad9406b24"
      },
      "outputs": [
        {
          "data": {
            "application/vnd.google.colaboratory.intrinsic+json": {
              "type": "string"
            },
            "text/plain": [
              "'# Check columns with missing values again\\nmissing_values_count = parking_df_1.select([count(when(col(c).isNull(), c)).alias(c) for c in parking_df_1.columns])\\nmissing_columns = [c for c in missing_values_count.columns if missing_values_count.collect()[0][c] > 0]\\n\\n# Print columns with missing values\\nif len(missing_columns) > 0:\\n    print(\"Columns with missing values:\")\\n    for column in missing_columns:\\n        print(column)\\nelse:\\n    print(\"No missing values in any column.\")'"
            ]
          },
          "execution_count": 24,
          "metadata": {},
          "output_type": "execute_result"
        }
      ],
      "source": [
        "\"\"\"# Check columns with missing values again\n",
        "missing_values_count = parking_df_1.select([count(when(col(c).isNull(), c)).alias(c) for c in parking_df_1.columns])\n",
        "missing_columns = [c for c in missing_values_count.columns if missing_values_count.collect()[0][c] > 0]\n",
        "\n",
        "# Print columns with missing values\n",
        "if len(missing_columns) > 0:\n",
        "    print(\"Columns with missing values:\")\n",
        "    for column in missing_columns:\n",
        "        print(column)\n",
        "else:\n",
        "    print(\"No missing values in any column.\")\"\"\"\n"
      ]
    },
    {
      "cell_type": "code",
      "execution_count": null,
      "metadata": {
        "colab": {
          "base_uri": "https://localhost:8080/",
          "height": 87
        },
        "id": "Cq5pj2B9-mWT",
        "outputId": "6048b3c1-b1e6-485a-d767-48db82058c27"
      },
      "outputs": [
        {
          "data": {
            "application/vnd.google.colaboratory.intrinsic+json": {
              "type": "string"
            },
            "text/plain": [
              "'# Check2 columns with missing values again\\nmissing_values_count = parking_df_1.select([count(when(col(c).isNull(), c)).alias(c) for c in parking_df_1.columns])\\nmissing_columns = [c for c in missing_values_count.columns if missing_values_count.collect()[0][c] > 0]\\n\\n# Print columns with missing values\\nif len(missing_columns) > 0:\\n    print(\"Columns with missing values:\")\\n    for column in missing_columns:\\n        print(column)\\nelse:\\n    print(\"No missing values in any column.\")'"
            ]
          },
          "execution_count": 26,
          "metadata": {},
          "output_type": "execute_result"
        }
      ],
      "source": [
        "\"\"\"# Check2 columns with missing values again\n",
        "missing_values_count = parking_df_1.select([count(when(col(c).isNull(), c)).alias(c) for c in parking_df_1.columns])\n",
        "missing_columns = [c for c in missing_values_count.columns if missing_values_count.collect()[0][c] > 0]\n",
        "\n",
        "# Print columns with missing values\n",
        "if len(missing_columns) > 0:\n",
        "    print(\"Columns with missing values:\")\n",
        "    for column in missing_columns:\n",
        "        print(column)\n",
        "else:\n",
        "    print(\"No missing values in any column.\")\"\"\"\n"
      ]
    },
    {
      "cell_type": "code",
      "execution_count": null,
      "metadata": {
        "id": "OjumDl83-UqC"
      },
      "outputs": [],
      "source": [
        "# Import necessary libraries\n",
        "from pyspark.sql.functions import when\n",
        "\n",
        "# Deal with Issuer_Squad column\n",
        "parking_df_1 = parking_df_1.fillna({'Issuer_Squad': 'Unknown'})\n",
        "\n",
        "# Deal with Violation_Time column\n",
        "parking_df_1 = parking_df_1.fillna({'Violation_Time': '0'})\n",
        "parking_df_1 = parking_df_1.fillna({'Violation_Timestamp': '0'})\n",
        "parking_df_1 = parking_df_1.withColumn('Violation_Timestamp', when(parking_df_1['Violation_Timestamp'] == '0', None).otherwise(parking_df_1['Violation_Timestamp']))\n",
        "parking_df_1 = parking_df_1.withColumn('Violation_Time', when(parking_df_1['Violation_Time'] == '0', None).otherwise(parking_df_1['Violation_Time']))\n",
        "\n",
        "# Deal with Violation_County column\n",
        "parking_df_1 = parking_df_1.fillna({'Violation_County': 'Unknown'})\n",
        "\n",
        "# Deal with Violation_In_Front_Of_Or_Opposite column\n",
        "parking_df_1 = parking_df_1.fillna({'Violation_In_Front_Of_Or_Opposite': 'Unknown'})\n",
        "\n",
        "# Deal with House_Number column\n",
        "parking_df_1 = parking_df_1.fillna({'House_Number': 'Unknown'})\n",
        "\n",
        "# Deal with Street_Name column\n",
        "parking_df_1 = parking_df_1.fillna({'Street_Name': 'Unknown'})\n",
        "\n",
        "# Deal with Intersecting_Street column\n",
        "parking_df_1 = parking_df_1.fillna({'Intersecting_Street': 'Unknown'})\n",
        "\n",
        "# Deal with Sub_Division column\n",
        "parking_df_1 = parking_df_1.fillna({'Sub_Division': 'Unknown'})\n",
        "\n",
        "# Deal with Violation_Legal_Code column\n",
        "parking_df_1 = parking_df_1.fillna({'Violation_Legal_Code': 'Unknown'})\n",
        "\n",
        "# Deal with Days_Parking_In_Effect column\n",
        "parking_df_1 = parking_df_1.fillna({'Days_Parking_In_Effect': 'Unknown'})\n",
        "\n",
        "# Deal with From_Hours_In_Effect column\n",
        "parking_df_1 = parking_df_1.fillna({'From_Hours_In_Effect': 'Unknown'})\n",
        "\n",
        "# Deal with To_Hours_In_Effect column\n",
        "parking_df_1 = parking_df_1.fillna({'To_Hours_In_Effect': 'Unknown'})\n",
        "\n",
        "# Deal with Meter_Number column\n",
        "parking_df_1 = parking_df_1.fillna({'Meter_Number': 'Unknown'})\n",
        "\n",
        "# Deal with Violation_Post_Code column\n",
        "parking_df_1 = parking_df_1.fillna({'Violation_Post_Code': 'Unknown'})\n",
        "\n",
        "# Deal with Violation_Description column\n",
        "parking_df_1 = parking_df_1.fillna({'Violation_Description': 'Unknown'})\n",
        "\n"
      ]
    },
    {
      "cell_type": "code",
      "execution_count": null,
      "metadata": {
        "colab": {
          "base_uri": "https://localhost:8080/"
        },
        "id": "KNDLCaguDp0m",
        "outputId": "b157a5e7-d993-47ab-e55c-22941f5cc069"
      },
      "outputs": [
        {
          "name": "stdout",
          "output_type": "stream",
          "text": [
            "Columns with missing values:\n",
            "Vehicle_Body_Type\n",
            "Vehicle_Make\n",
            "Violation_Location\n",
            "Violation_Time\n",
            "Violation_Timestamp\n"
          ]
        }
      ],
      "source": [
        "# Check columns with missing values again\n",
        "from pyspark.sql.functions import count, when, col\n",
        "\n",
        "missing_values_count = parking_df_1.select([count(when(col(c).isNull(), c)).alias(c) for c in parking_df_1.columns])\n",
        "missing_columns = [c for c in missing_values_count.columns if missing_values_count.collect()[0][c] > 0]\n",
        "\n",
        "# Print columns with missing values\n",
        "if len(missing_columns) > 0:\n",
        "    print(\"Columns with missing values:\")\n",
        "    for column in missing_columns:\n",
        "        print(column)\n",
        "else:\n",
        "    print(\"No missing values in any column.\")\n"
      ]
    },
    {
      "cell_type": "code",
      "execution_count": null,
      "metadata": {
        "colab": {
          "base_uri": "https://localhost:8080/"
        },
        "id": "6ssbWULNY5n4",
        "outputId": "b37418b6-1ebf-40da-c2c3-e1901fa461de"
      },
      "outputs": [
        {
          "name": "stdout",
          "output_type": "stream",
          "text": [
            "+--------------+--------+------------------+----------+----------+--------------+-----------------+------------+--------------+------------+------------+------------+-----------------------+------------------+------------------+---------------+-----------+--------------+------------+--------------+----------------+---------------------------------+------------+--------------+-------------------+-------------------+-----------+------------+--------------------+----------------------+--------------------+------------------+-------------+------------+------------+--------------+-------------------+---------------------+-------------------+\n",
            "|Summons_Number|Plate_ID|Registration_State|Plate_Type|Issue_Date|Violation_Code|Vehicle_Body_Type|Vehicle_Make|Issuing_Agency|Street_Code1|Street_Code2|Street_Code3|Vehicle_Expiration_Date|Violation_Location|Violation_Precinct|Issuer_Precinct|Issuer_Code|Issuer_Command|Issuer_Squad|Violation_Time|Violation_County|Violation_In_Front_Of_Or_Opposite|House_Number|   Street_Name|Intersecting_Street|Date_First_Observed|Law_Section|Sub_Division|Violation_Legal_Code|Days_Parking_In_Effect|From_Hours_In_Effect|To_Hours_In_Effect|Vehicle_Color|Vehicle_Year|Meter_Number|Feet_From_Curb|Violation_Post_Code|Violation_Description|Violation_Timestamp|\n",
            "+--------------+--------+------------------+----------+----------+--------------+-----------------+------------+--------------+------------+------------+------------+-----------------------+------------------+------------------+---------------+-----------+--------------+------------+--------------+----------------+---------------------------------+------------+--------------+-------------------+-------------------+-----------+------------+--------------------+----------------------+--------------------+------------------+-------------+------------+------------+--------------+-------------------+---------------------+-------------------+\n",
            "|    2005400671|  .LV91S|                NJ|       PAS|03/31/2022|            21|             2DSD|        MINI|             S|       32930|       38130|       23130|                      0|                73|                73|              0|     668676|          KNBO|     Unknown|         1248A|           Kings|                                O|        9802| DITMAS AVENUE|            Unknown|                  0|        408|          d1|             Unknown|                  Y  Y|               1200A|             0300A|           BK|           0|     Unknown|             0|            Unknown| No Parking Street...|               null|\n",
            "|    8939725580| 0001CED|                DP|       PAS|09/19/2021|            19|             4DSD|       LEXUS|             T|       10910|       34430|       34450|               20218888|                10|                10|             10|     368899|          MTTF|           E|         1136A|              NY|                                F|         423|       9th Ave|            Unknown|                  0|        408|          C3|             Unknown|               YYYYYYY|             Unknown|           Unknown|        BLACK|           0|     Unknown|             0|                 02| 19-No Stand (bus ...|               null|\n",
            "|    8936533990| 0001CED|                DP|       PAS|11/05/2021|            14|             4DSD|       LEXUS|             T|       25390|       17910|       17930|               20211288|                10|                10|             10|     364897|          MTTF|           E|         0538P|              NY|                                F|         390|   Madison Ave|            Unknown|                  0|        408|           C|             Unknown|                 YYYYY|               0400P|             0700P|        BLACK|           0|     Unknown|             0|                 04|       14-No Standing|               null|\n",
            "|    8923413150| 0001CED|                DP|       PAS|02/24/2022|            14|             4DSD|       LEXUS|             T|       17890|       10210|       10110|               88888888|                17|                17|             17|     350401|          T106|           X|         1045A|              NY|                                F|         227|     E 45th St|            Unknown|                  0|        408|           C|             Unknown|                 YYYYY|               0700A|             0700P|        BLACK|           0|     Unknown|             0|                 99|       14-No Standing|               null|\n",
            "|    8589163891| 0001CED|                DP|       PAS|04/01/2022|            31|             4DSD|       LEXUS|             T|       27800|       17570|       17590|               20221288|                14|                14|             14|     368517|          T102|           E|         0812A|              NY|                                F|         440|Park Ave South|            Unknown|                  0|        408|          L3|             Unknown|                 YYYYY|               0700A|             0700P|        BLACK|           0|     Unknown|             0|                 99| 31-No Stand (Com....|               null|\n",
            "+--------------+--------+------------------+----------+----------+--------------+-----------------+------------+--------------+------------+------------+------------+-----------------------+------------------+------------------+---------------+-----------+--------------+------------+--------------+----------------+---------------------------------+------------+--------------+-------------------+-------------------+-----------+------------+--------------------+----------------------+--------------------+------------------+-------------+------------+------------+--------------+-------------------+---------------------+-------------------+\n",
            "only showing top 5 rows\n",
            "\n"
          ]
        }
      ],
      "source": [
        "parking_df_1.show(5)"
      ]
    },
    {
      "cell_type": "code",
      "execution_count": null,
      "metadata": {
        "id": "a1aq3_1wa2eQ"
      },
      "outputs": [],
      "source": [
        "from pyspark.sql.functions import when\n",
        "\n",
        "# Assuming your dataframe is named `df`\n",
        "parking_df_1 = parking_df_1.withColumn(\"Vehicle_Body_Type\", when(parking_df_1[\"Vehicle_Body_Type\"].isNull(), \"UNKNOWN\").otherwise(parking_df_1[\"Vehicle_Body_Type\"]))\n",
        "parking_df_1 = parking_df_1.withColumn(\"Vehicle_Make\", when(parking_df_1[\"Vehicle_Make\"].isNull(), \"UNKNOWN\").otherwise(parking_df_1[\"Vehicle_Make\"]))\n",
        "parking_df_1 = parking_df_1.withColumn(\"Violation_Location\", when(parking_df_1[\"Violation_Location\"].isNull(), -1).otherwise(parking_df_1[\"Violation_Location\"]))\n",
        "parking_df_1 = parking_df_1.withColumn(\"Violation_Time\", when(parking_df_1[\"Violation_Time\"].isNull(), \"UNKNOWN\").otherwise(parking_df_1[\"Violation_Time\"]))\n",
        "parking_df_1 = parking_df_1.withColumn(\"Violation_Timestamp\", when(parking_df_1[\"Violation_Timestamp\"].isNull(), \"UNKNOWN\").otherwise(parking_df_1[\"Violation_Timestamp\"]))\n"
      ]
    },
    {
      "cell_type": "code",
      "execution_count": null,
      "metadata": {
        "id": "T09Dx2ctbL7j"
      },
      "outputs": [],
      "source": [
        "parking_df_1.show(5)"
      ]
    },
    {
      "cell_type": "code",
      "execution_count": null,
      "metadata": {
        "id": "JUDylKJmgFTR"
      },
      "outputs": [],
      "source": [
        "\n",
        "parking_df_1.createOrReplaceTempView(\"parking\")"
      ]
    },
    {
      "cell_type": "code",
      "execution_count": null,
      "metadata": {
        "colab": {
          "base_uri": "https://localhost:8080/"
        },
        "id": "dd3TJe5qu33T",
        "outputId": "bcb4c52c-6ddf-4ffb-fc7a-9c6fe8b9154d"
      },
      "outputs": [
        {
          "data": {
            "text/plain": [
              "DataFrame[Summons_Number: bigint, Plate_ID: string, Registration_State: string, Plate_Type: string, Issue_Date: string, Violation_Code: int, Vehicle_Body_Type: string, Vehicle_Make: string, Issuing_Agency: string, Street_Code1: int, Street_Code2: int, Street_Code3: int, Vehicle_Expiration_Date: int, Violation_Location: int, Violation_Precinct: int, Issuer_Precinct: int, Issuer_Code: int, Issuer_Command: string, Issuer_Squad: string, Violation_Time: string, Violation_County: string, Violation_In_Front_Of_Or_Opposite: string, House_Number: string, Street_Name: string, Intersecting_Street: string, Date_First_Observed: int, Law_Section: int, Sub_Division: string, Violation_Legal_Code: string, Days_Parking_In_Effect: string, From_Hours_In_Effect: string, To_Hours_In_Effect: string, Vehicle_Color: string, Vehicle_Year: int, Meter_Number: string, Feet_From_Curb: int, Violation_Post_Code: string, Violation_Description: string, Violation_Timestamp: string]"
            ]
          },
          "execution_count": 25,
          "metadata": {},
          "output_type": "execute_result"
        }
      ],
      "source": [
        "spark.sql('select * from parking')"
      ]
    },
    {
      "cell_type": "markdown",
      "metadata": {
        "id": "QvY7eCFlu7ML"
      },
      "source": [
        "#Step 3 : Data Cleaning and Data Preparation\n",
        "3.1. Let us first filter the data for the year 2022 and create a new table with that data"
      ]
    },
    {
      "cell_type": "code",
      "execution_count": null,
      "metadata": {
        "colab": {
          "base_uri": "https://localhost:8080/"
        },
        "id": "qC3TauVwu8AT",
        "outputId": "6488b8c8-9b5a-44a5-8f4c-fa9fbad2b4f0"
      },
      "outputs": [
        {
          "data": {
            "text/plain": [
              "7371440"
            ]
          },
          "execution_count": 31,
          "metadata": {},
          "output_type": "execute_result"
        }
      ],
      "source": [
        "# Filter out only 2022 related data\n",
        "\n",
        "parking2022 = spark.sql(\"select * from parking \\\n",
        "                         where year(to_date(cast(unix_timestamp(Issue_Date,'MM/dd/yyyy') as timestamp))) = 2022\")\n",
        "\n",
        "parking2022.count()"
      ]
    },
    {
      "cell_type": "code",
      "execution_count": null,
      "metadata": {
        "id": "0EOPtTGxvMbJ"
      },
      "outputs": [],
      "source": [
        "parking2022.createOrReplaceTempView(\"parking_2022\")"
      ]
    },
    {
      "cell_type": "code",
      "execution_count": null,
      "metadata": {
        "colab": {
          "base_uri": "https://localhost:8080/"
        },
        "id": "huUnVCLMvRE-",
        "outputId": "b250dbbf-233e-4cac-8d6c-f4d5baff5b28"
      },
      "outputs": [
        {
          "name": "stdout",
          "output_type": "stream",
          "text": [
            "+-------------+\n",
            "|summons_count|\n",
            "+-------------+\n",
            "|      7371440|\n",
            "+-------------+\n",
            "\n"
          ]
        }
      ],
      "source": [
        "spark.sql(\"select count(distinct Summons_Number) as summons_count FROM parking_2022\").show()"
      ]
    },
    {
      "cell_type": "markdown",
      "metadata": {
        "id": "IBpnfSR5wNMO"
      },
      "source": [
        "3.2. Check the Plate Id for any erroneous data and if exists remove the erroneous data"
      ]
    },
    {
      "cell_type": "code",
      "execution_count": null,
      "metadata": {
        "colab": {
          "base_uri": "https://localhost:8080/"
        },
        "id": "7RnD9Tk6wE0h",
        "outputId": "a9da07cc-b1ee-43e0-c9df-0fb55f290168"
      },
      "outputs": [
        {
          "name": "stdout",
          "output_type": "stream",
          "text": [
            "+----------+------------+\n",
            "|  plate_id|ticket_count|\n",
            "+----------+------------+\n",
            "|BLANKPLATE|        6551|\n",
            "|   40404JG|         657|\n",
            "|   55219MM|         559|\n",
            "|   2731057|         503|\n",
            "|   82536PC|         453|\n",
            "|   2871114|         438|\n",
            "|   32718MM|         436|\n",
            "|   82752PC|         431|\n",
            "|   2783643|         417|\n",
            "|   52880MH|         416|\n",
            "|   15434PF|         415|\n",
            "|   91654MC|         401|\n",
            "|   82547PC|         394|\n",
            "|   69895PC|         393|\n",
            "|   84405PC|         390|\n",
            "|   54239MN|         389|\n",
            "|   56253MG|         374|\n",
            "|   91665MC|         372|\n",
            "|   2688510|         370|\n",
            "|   31376MG|         368|\n",
            "+----------+------------+\n",
            "only showing top 20 rows\n",
            "\n"
          ]
        }
      ],
      "source": [
        "# Check the tickets issued based on plate ids\n",
        "\n",
        "check_plate_id = spark.sql(\"select Plate_ID as plate_id, count(*) as ticket_count \\\n",
        "                          from parking_2022 \\\n",
        "                          group by plate_id \\\n",
        "                          having count(*) > 1 \\\n",
        "                          order by ticket_count desc\")\n",
        "\n",
        "check_plate_id.show()"
      ]
    },
    {
      "cell_type": "code",
      "execution_count": null,
      "metadata": {
        "colab": {
          "base_uri": "https://localhost:8080/"
        },
        "id": "WM0CJaxHw73l",
        "outputId": "6ecbfc09-6702-4e06-cffe-a4d86632cf4e"
      },
      "outputs": [
        {
          "data": {
            "text/plain": [
              "7364889"
            ]
          },
          "execution_count": 33,
          "metadata": {},
          "output_type": "execute_result"
        }
      ],
      "source": [
        "# Remove the rows containing value as BLANKPLATE for plate_id\n",
        "\n",
        "parking2022 = parking2022[parking2022.Plate_ID != 'BLANKPLATE']\n",
        "parking2022.count()"
      ]
    },
    {
      "cell_type": "code",
      "execution_count": null,
      "metadata": {
        "id": "GZL5ZLj_xDc6"
      },
      "outputs": [],
      "source": [
        "# update the temp table with the current data\n",
        "\n",
        "parking2022.createOrReplaceTempView(\"parking_2022\")"
      ]
    },
    {
      "cell_type": "code",
      "execution_count": null,
      "metadata": {
        "colab": {
          "base_uri": "https://localhost:8080/"
        },
        "id": "2_rRW3emxHEc",
        "outputId": "9567c27b-1b6b-4969-c1ac-08e529f830eb"
      },
      "outputs": [
        {
          "name": "stdout",
          "output_type": "stream",
          "text": [
            "+-------+\n",
            "|  count|\n",
            "+-------+\n",
            "|7364889|\n",
            "+-------+\n",
            "\n"
          ]
        }
      ],
      "source": [
        "# Check the count now \n",
        "\n",
        "spark.sql(\"select count(*) as count FROM parking_2022\").show()"
      ]
    },
    {
      "cell_type": "markdown",
      "metadata": {
        "id": "t4on3eqMxLV-"
      },
      "source": [
        "#3.3. Check the Registered State for any erroneous data and if exists replace the erroneous data with a valid data"
      ]
    },
    {
      "cell_type": "code",
      "execution_count": null,
      "metadata": {
        "colab": {
          "base_uri": "https://localhost:8080/"
        },
        "id": "hSdw-8JFxOI9",
        "outputId": "403aae7b-e15b-40f1-dd0b-30785c087b90"
      },
      "outputs": [
        {
          "name": "stdout",
          "output_type": "stream",
          "text": [
            "+------------------+------------+\n",
            "|registration_state|ticket_count|\n",
            "+------------------+------------+\n",
            "|                NY|     5588167|\n",
            "|                NJ|      656580|\n",
            "|                PA|      229326|\n",
            "|                FL|      146887|\n",
            "|                CT|      115292|\n",
            "|                TX|       71458|\n",
            "|                IN|       62371|\n",
            "|                MA|       48698|\n",
            "|                GA|       47134|\n",
            "|                VA|       45763|\n",
            "|                NC|       41168|\n",
            "|                MD|       39071|\n",
            "|                CA|       28178|\n",
            "|                IL|       23386|\n",
            "|                OH|       21349|\n",
            "|                AZ|       19180|\n",
            "|                ME|       17071|\n",
            "|                SC|       16864|\n",
            "|                TN|       12638|\n",
            "|                DE|       12331|\n",
            "|                MN|       10197|\n",
            "|                WA|        9195|\n",
            "|                MI|        9103|\n",
            "|                AL|        8885|\n",
            "|                VT|        8318|\n",
            "|                RI|        7521|\n",
            "|                NH|        6656|\n",
            "|                OK|        5292|\n",
            "|                WI|        5112|\n",
            "|                CO|        4677|\n",
            "|                OR|        4096|\n",
            "|                MS|        3924|\n",
            "|                99|        3813|\n",
            "|                MO|        3791|\n",
            "|                KY|        2959|\n",
            "|                LA|        2763|\n",
            "|                ON|        2404|\n",
            "|                SD|        2234|\n",
            "|                WV|        2208|\n",
            "|                DC|        2078|\n",
            "|                QB|        1826|\n",
            "|                AR|        1789|\n",
            "|                NV|        1469|\n",
            "|                UT|        1422|\n",
            "|                GV|        1411|\n",
            "|                IA|        1357|\n",
            "|                MT|        1285|\n",
            "|                NM|        1213|\n",
            "|                DP|         897|\n",
            "|                KS|         865|\n",
            "|                NE|         836|\n",
            "|                ID|         741|\n",
            "|                WY|         385|\n",
            "|                ND|         326|\n",
            "|                AK|         324|\n",
            "|                PR|         154|\n",
            "|                HI|         154|\n",
            "|                NS|          78|\n",
            "|                AB|          61|\n",
            "|                BC|          47|\n",
            "|                NB|          42|\n",
            "|                FO|          28|\n",
            "|                MB|          24|\n",
            "|                PE|          11|\n",
            "|                SK|           6|\n",
            "+------------------+------------+\n",
            "\n"
          ]
        }
      ],
      "source": [
        "# Check the ticket counts based in registered state\n",
        "\n",
        "registered_state_wise_tickets = spark.sql(\"select Registration_State as registration_state, count(*) as ticket_count \\\n",
        "                               from parking_2022 \\\n",
        "                               group by registration_state \\\n",
        "                               order by ticket_count desc\")\n",
        "\n",
        "registered_state_wise_tickets.show(70)"
      ]
    },
    {
      "cell_type": "code",
      "execution_count": null,
      "metadata": {
        "colab": {
          "base_uri": "https://localhost:8080/"
        },
        "id": "suXstavRxbzq",
        "outputId": "21684b69-3c10-4714-c906-cea6f77a6057"
      },
      "outputs": [
        {
          "name": "stdout",
          "output_type": "stream",
          "text": [
            "+-----+\n",
            "|count|\n",
            "+-----+\n",
            "|   65|\n",
            "+-----+\n",
            "\n"
          ]
        }
      ],
      "source": [
        "# Count of distinct Registration states\n",
        "\n",
        "spark.sql(\"select count(distinct Registration_State) as count from parking_2022\").show()"
      ]
    },
    {
      "cell_type": "code",
      "execution_count": null,
      "metadata": {
        "id": "cj2QjKPcyAo9"
      },
      "outputs": [],
      "source": [
        "# Replace the state named 99 with NY, as NY has the maximum violations.\n",
        "\n",
        "from pyspark.sql.functions import when,lit\n",
        "\n",
        "parking2022 = parking2022.withColumn('Registration_State', \\\n",
        "                                     when(parking2022[\"Registration_State\"] == \"99\", lit('NY'))\\\n",
        "                                     .otherwise(parking2022[\"Registration_State\"]))\n"
      ]
    },
    {
      "cell_type": "code",
      "execution_count": null,
      "metadata": {
        "id": "b9NM-PbwyzAy"
      },
      "outputs": [],
      "source": [
        "# update the temp table with the current data\n",
        "\n",
        "parking2022.createOrReplaceTempView(\"parking_2022\")"
      ]
    },
    {
      "cell_type": "code",
      "execution_count": null,
      "metadata": {
        "colab": {
          "base_uri": "https://localhost:8080/"
        },
        "id": "iPHIKV67y244",
        "outputId": "e18fba5b-0ff3-447c-a67f-5fe8b123bba6"
      },
      "outputs": [
        {
          "name": "stdout",
          "output_type": "stream",
          "text": [
            "+------------------+------------+\n",
            "|registration_state|ticket_count|\n",
            "+------------------+------------+\n",
            "|                NY|     5591980|\n",
            "|                NJ|      656580|\n",
            "|                PA|      229326|\n",
            "|                FL|      146887|\n",
            "|                CT|      115292|\n",
            "|                TX|       71458|\n",
            "|                IN|       62371|\n",
            "|                MA|       48698|\n",
            "|                GA|       47134|\n",
            "|                VA|       45763|\n",
            "|                NC|       41168|\n",
            "|                MD|       39071|\n",
            "|                CA|       28178|\n",
            "|                IL|       23386|\n",
            "|                OH|       21349|\n",
            "|                AZ|       19180|\n",
            "|                ME|       17071|\n",
            "|                SC|       16864|\n",
            "|                TN|       12638|\n",
            "|                DE|       12331|\n",
            "|                MN|       10197|\n",
            "|                WA|        9195|\n",
            "|                MI|        9103|\n",
            "|                AL|        8885|\n",
            "|                VT|        8318|\n",
            "|                RI|        7521|\n",
            "|                NH|        6656|\n",
            "|                OK|        5292|\n",
            "|                WI|        5112|\n",
            "|                CO|        4677|\n",
            "|                OR|        4096|\n",
            "|                MS|        3924|\n",
            "|                MO|        3791|\n",
            "|                KY|        2959|\n",
            "|                LA|        2763|\n",
            "|                ON|        2404|\n",
            "|                SD|        2234|\n",
            "|                WV|        2208|\n",
            "|                DC|        2078|\n",
            "|                QB|        1826|\n",
            "|                AR|        1789|\n",
            "|                NV|        1469|\n",
            "|                UT|        1422|\n",
            "|                GV|        1411|\n",
            "|                IA|        1357|\n",
            "|                MT|        1285|\n",
            "|                NM|        1213|\n",
            "|                DP|         897|\n",
            "|                KS|         865|\n",
            "|                NE|         836|\n",
            "|                ID|         741|\n",
            "|                WY|         385|\n",
            "|                ND|         326|\n",
            "|                AK|         324|\n",
            "|                PR|         154|\n",
            "|                HI|         154|\n",
            "|                NS|          78|\n",
            "|                AB|          61|\n",
            "|                BC|          47|\n",
            "|                NB|          42|\n",
            "|                FO|          28|\n",
            "|                MB|          24|\n",
            "|                PE|          11|\n",
            "|                SK|           6|\n",
            "+------------------+------------+\n",
            "\n"
          ]
        }
      ],
      "source": [
        "# Check the ticket counts based on registered state again and see if 10794 rows associated to state 99 has been now added to\n",
        "# NY (4273951 + 10794 = 4284745)\n",
        "\n",
        "registered_state_wise_tickets = spark.sql(\"select Registration_State as registration_state, count(*) as ticket_count \\\n",
        "                               from parking_2022 \\\n",
        "                               group by registration_state \\\n",
        "                               order by ticket_count desc\")\n",
        "\n",
        "registered_state_wise_tickets.show(70)"
      ]
    },
    {
      "cell_type": "code",
      "execution_count": null,
      "metadata": {
        "colab": {
          "base_uri": "https://localhost:8080/"
        },
        "id": "JHS4UQqWzC56",
        "outputId": "6ea569a3-e307-43ae-d10c-9338d04823b1"
      },
      "outputs": [
        {
          "name": "stdout",
          "output_type": "stream",
          "text": [
            "+-----+\n",
            "|count|\n",
            "+-----+\n",
            "|   64|\n",
            "+-----+\n",
            "\n"
          ]
        }
      ],
      "source": [
        "# Count of distinct Registration states\n",
        "\n",
        "spark.sql(\"select count(distinct Registration_State) as count from parking_2022\").show()"
      ]
    },
    {
      "cell_type": "markdown",
      "metadata": {
        "id": "N2VeyFH8zSXm"
      },
      "source": [
        "#Step 4 : Basic Data Analysis\n",
        "4.1. Check Month Wise Tickets for 2022\n",
        "\n"
      ]
    },
    {
      "cell_type": "code",
      "execution_count": null,
      "metadata": {
        "id": "6yFlAScGzU5d"
      },
      "outputs": [],
      "source": [
        "# Let us check which month in the year 2022 has maximum summons\n",
        "\n",
        "\"\"\"month_wise_tickets = spark.sql(\"select month(Issue_Date) as month, count(*) as ticket_count \\\n",
        "                               from parking_2022 \\\n",
        "                               group by month(Issue_Date) \\\n",
        "                               order by ticket_count desc\")\n",
        "\n",
        "month_wise_tickets.show()\"\"\""
      ]
    },
    {
      "cell_type": "code",
      "execution_count": null,
      "metadata": {
        "id": "7ZAQflWS1aIA"
      },
      "outputs": [],
      "source": [
        "\"\"\"month_wise_tickets = spark.sql(\"SELECT Issue_Date, month(Issue_Date) as month, count(*) as ticket_count \\\n",
        "                               FROM parking_2022 \\\n",
        "                               GROUP BY Issue_Date, month(Issue_Date) \\\n",
        "                               ORDER BY ticket_count DESC\")\n",
        "\n",
        "month_wise_tickets.show()\"\"\"\n",
        "\"\"\"\n",
        "month_wise_tickets = spark.sql(\"SELECT month(Issue_Date) as month, count(*) as ticket_count \\\n",
        "                               FROM parking_2022 \\\n",
        "                               GROUP BY month(Issue_Date) \\\n",
        "                               ORDER BY ticket_count DESC\")\n",
        "\n",
        "month_wise_tickets.show()\n",
        "\"\"\"\n",
        "\n"
      ]
    },
    {
      "cell_type": "code",
      "execution_count": null,
      "metadata": {
        "colab": {
          "base_uri": "https://localhost:8080/"
        },
        "id": "4DItzEzQ3lAr",
        "outputId": "fd32a008-b976-48c9-e2ee-444f7e674388"
      },
      "outputs": [
        {
          "name": "stdout",
          "output_type": "stream",
          "text": [
            "+-----+------------+\n",
            "|month|ticket_count|\n",
            "+-----+------------+\n",
            "|    1|     1077774|\n",
            "|    2|     1096658|\n",
            "|    3|     1389784|\n",
            "|    4|     1329379|\n",
            "|    5|     1346414|\n",
            "|    6|     1124498|\n",
            "+-----+------------+\n",
            "\n"
          ]
        }
      ],
      "source": [
        "# month_wise_tickets = spark.sql(\"SELECT month(to_date(Issue_Date, 'MM/dd/yyyy')) as month, count(*) as ticket_count \\\n",
        "#                                FROM parking_2022 \\\n",
        "#                                GROUP BY month \\\n",
        "#                                ORDER BY month\")\n",
        "\n",
        "# month_wise_tickets.show()\n",
        "\n",
        "month_wise_tickets = spark.sql(\"SELECT month(to_date(Issue_Date, 'MM/dd/yyyy')) as month, count(*) as ticket_count \\\n",
        "                               FROM parking_2022 \\\n",
        "                               WHERE to_date(Issue_Date, 'MM/dd/yyyy') >= '2022-01-01' AND to_date(Issue_Date, 'MM/dd/yyyy') <= '2022-06-30' \\\n",
        "                               GROUP BY month \\\n",
        "                               ORDER BY month\")\n",
        "month_wise_tickets.show()\n",
        "\n"
      ]
    },
    {
      "cell_type": "code",
      "execution_count": null,
      "metadata": {
        "id": "39SGRw_H3A-v"
      },
      "outputs": [],
      "source": [
        "#spark.sql(\"SELECT COUNT(*) FROM parking_2022 WHERE Issue_Date IS NULL\").show()\n"
      ]
    },
    {
      "cell_type": "code",
      "execution_count": null,
      "metadata": {
        "colab": {
          "base_uri": "https://localhost:8080/",
          "height": 489
        },
        "id": "UU8oFf9H07w3",
        "outputId": "1c1e1893-ff22-4011-b41c-4d920f81f746"
      },
      "outputs": [
        {
          "data": {
            "text/plain": [
              "<Figure size 640x480 with 0 Axes>"
            ]
          },
          "metadata": {},
          "output_type": "display_data"
        },
        {
          "data": {
            "image/png": "[encoded data removed]",
            "text/plain": [
              "<Figure size 640x480 with 1 Axes>"
            ]
          },
          "metadata": {},
          "output_type": "display_data"
        }
      ],
      "source": [
        "# create a dataframe with the month wise tickets data\n",
        "\n",
        "month_wise_tickets_df = month_wise_tickets.toPandas()\n",
        "\n",
        "# plot a graph\n",
        "plt.clf()\n",
        "month_wise_tickets_df.plot(x= 'month', y='ticket_count', kind='bar', color='green')\n",
        "plt.title('Month wise tickets count for 2022', fontsize = 14)\n",
        "plt.xlabel(\"Month\", fontsize = 12)\n",
        "plt.ylabel(\"Ticket Count\", fontsize = 12)\n",
        "plt.legend('')\n",
        "plt.show()"
      ]
    },
    {
      "cell_type": "code",
      "execution_count": null,
      "metadata": {
        "colab": {
          "base_uri": "https://localhost:8080/",
          "height": 575
        },
        "id": "hrmaZ_Z55BZl",
        "outputId": "e5236445-b10c-4017-ffd2-c630358579d7"
      },
      "outputs": [
        {
          "data": {
            "image/png": "[encoded data removed]",
            "text/plain": [
              "<Figure size 1000x600 with 1 Axes>"
            ]
          },
          "metadata": {},
          "output_type": "display_data"
        }
      ],
      "source": [
        "import matplotlib.pyplot as plt\n",
        "import seaborn as sns\n",
        "\n",
        "# create a DataFrame from the Spark DataFrame\n",
        "month_wise_tickets_df = month_wise_tickets.toPandas()\n",
        "\n",
        "# set the figure size and style\n",
        "plt.figure(figsize=(10, 6))\n",
        "sns.set_style(\"darkgrid\")\n",
        "\n",
        "# create the bar plot\n",
        "ax = sns.barplot(x=\"month\", y=\"ticket_count\", data=month_wise_tickets_df, color=\"#3F5D7D\")\n",
        "\n",
        "# customize the plot\n",
        "ax.set_title(\"Monthly Parking Ticket Counts for 2022\", fontsize=16, weight='bold')\n",
        "ax.set_xlabel(\"Month\", fontsize=14, weight='bold')\n",
        "ax.set_ylabel(\"Ticket Count\", fontsize=14, weight='bold')\n",
        "ax.tick_params(labelsize=12)\n",
        "ax.spines['right'].set_visible(False)\n",
        "ax.spines['top'].set_visible(False)\n",
        "\n",
        "# add labels to the bars\n",
        "for p in ax.patches:\n",
        "    ax.annotate(str(p.get_height()), xy=(p.get_x() + p.get_width() / 2, p.get_height() + 5000),\n",
        "                ha='center', va='center', fontsize=12, color='black')\n",
        "\n",
        "# show the plot\n",
        "plt.show()\n"
      ]
    },
    {
      "cell_type": "markdown",
      "metadata": {
        "id": "bo0kWUdi6HZH"
      },
      "source": [
        "#4.2. Top 5 states that have maximum violations"
      ]
    },
    {
      "cell_type": "code",
      "execution_count": null,
      "metadata": {
        "colab": {
          "base_uri": "https://localhost:8080/",
          "height": 514
        },
        "id": "4PwS40Rv6JgE",
        "outputId": "89b02b38-9fe1-4ded-e6f8-8afb428e18b3"
      },
      "outputs": [
        {
          "data": {
            "text/plain": [
              "<Figure size 640x480 with 0 Axes>"
            ]
          },
          "metadata": {},
          "output_type": "display_data"
        },
        {
          "data": {
            "image/png": "[encoded data removed]",
            "text/plain": [
              "<Figure size 640x480 with 1 Axes>"
            ]
          },
          "metadata": {},
          "output_type": "display_data"
        }
      ],
      "source": [
        "# create a dataframe with the ragistered state wise tickets\n",
        "\n",
        "registered_state_wise_tickets_df = registered_state_wise_tickets.toPandas()\n",
        "\n",
        "# plot a graph\n",
        "plt.clf()\n",
        "registered_state_wise_tickets_df.head(5).plot(x='registration_state', y='ticket_count', kind='bar', color ='plum')\n",
        "plt.title('Top 5 States with Maximum Parking Violations for 2022', fontsize = 14)\n",
        "plt.xlabel(\"State\", fontsize = 12)\n",
        "plt.ylabel(\"Ticket Count\", fontsize = 12)\n",
        "plt.legend('')\n",
        "plt.show()\n"
      ]
    },
    {
      "cell_type": "markdown",
      "metadata": {
        "id": "pLw9j6Qe7LAI"
      },
      "source": [
        "#4.3. Top 5 Plate_Ids that have maximum violations"
      ]
    },
    {
      "cell_type": "code",
      "execution_count": null,
      "metadata": {
        "colab": {
          "base_uri": "https://localhost:8080/"
        },
        "id": "wo1AhASX6Sj_",
        "outputId": "163441cd-5fb5-476d-8590-1b6555a6810c"
      },
      "outputs": [
        {
          "name": "stdout",
          "output_type": "stream",
          "text": [
            "+--------+------------+\n",
            "|plate_id|ticket_count|\n",
            "+--------+------------+\n",
            "| 40404JG|         657|\n",
            "| 55219MM|         559|\n",
            "| 2731057|         503|\n",
            "| 82536PC|         453|\n",
            "| 2871114|         438|\n",
            "+--------+------------+\n",
            "\n"
          ]
        }
      ],
      "source": [
        "# Top 5 Plate Ids with maximum violations\n",
        "\n",
        "top_5_plate_ids = spark.sql(\"select Plate_ID as plate_id, count(*) as ticket_count \\\n",
        "                             from parking_2022 \\\n",
        "                             group by plate_id \\\n",
        "                             order by ticket_count desc \\\n",
        "                             limit 5\")\n",
        "top_5_plate_ids.show()"
      ]
    },
    {
      "cell_type": "code",
      "execution_count": null,
      "metadata": {
        "colab": {
          "base_uri": "https://localhost:8080/",
          "height": 548
        },
        "id": "qoMwX2UI7SVd",
        "outputId": "e7322957-bc9e-4ced-d5f4-ba012ee8fbbb"
      },
      "outputs": [
        {
          "data": {
            "text/plain": [
              "<Figure size 640x480 with 0 Axes>"
            ]
          },
          "metadata": {},
          "output_type": "display_data"
        },
        {
          "data": {
            "image/png": "[encoded data removed]",
            "text/plain": [
              "<Figure size 640x480 with 1 Axes>"
            ]
          },
          "metadata": {},
          "output_type": "display_data"
        }
      ],
      "source": [
        "# create a dataframe with the month wise tickets data\n",
        "\n",
        "top_5_plate_ids_df = top_5_plate_ids.toPandas()\n",
        "\n",
        "# plot a graph\n",
        "plt.clf()\n",
        "top_5_plate_ids_df.plot(x='plate_id', y='ticket_count', kind='bar', color='lightsalmon')\n",
        "plt.title(\"Top 5 License Plate Id with Maximum Parking Violations for 2022\", fontsize = 14)\n",
        "plt.xlabel(\"Licence Plate Id\", fontsize = 12)\n",
        "plt.ylabel(\"Ticket Count\", fontsize = 12)\n",
        "plt.legend('')\n",
        "plt.show()"
      ]
    },
    {
      "cell_type": "code",
      "execution_count": null,
      "metadata": {
        "id": "M0QCWtrXtzt4"
      },
      "outputs": [],
      "source": [
        "plateIDs = [\"40404JG\",\"55219MM\",\"2731057\",\"82536PC\",\"2871114\"]\n",
        "plateTypes = parking2022.filter(col(\"plate_id\").isin(plateIDs)) \\\n",
        "                      .select(\"plate_id\", \"plate_type\") \\\n",
        "                      .collect()"
      ]
    },
    {
      "cell_type": "markdown",
      "metadata": {
        "id": "BqiJxU9D7bYZ"
      },
      "source": [
        "#Step 5 : Examine the data\n",
        "5.1. Find the total number of tickets for the year."
      ]
    },
    {
      "cell_type": "code",
      "execution_count": null,
      "metadata": {
        "colab": {
          "base_uri": "https://localhost:8080/"
        },
        "id": "rrOWYte87Zne",
        "outputId": "bce04110-8aeb-4fd0-ba7d-cf7b18fa0ef1"
      },
      "outputs": [
        {
          "name": "stdout",
          "output_type": "stream",
          "text": [
            "+-----------------------+\n",
            "|total_number_of_tickets|\n",
            "+-----------------------+\n",
            "|                7364889|\n",
            "+-----------------------+\n",
            "\n"
          ]
        }
      ],
      "source": [
        "# Total number of tickets for the year 2022\n",
        "\n",
        "from pyspark.sql.functions import countDistinct\n",
        "parking2022.select(countDistinct(\"Summons_Number\").alias(\"total_number_of_tickets\")).show()"
      ]
    },
    {
      "cell_type": "markdown",
      "metadata": {
        "id": "-JbCIOMZ7tRF"
      },
      "source": [
        "5.2. Find out the number of unique states from where the cars that got parking tickets came. (Hint: Use the column 'Registration State'.)\n"
      ]
    },
    {
      "cell_type": "code",
      "execution_count": null,
      "metadata": {
        "colab": {
          "base_uri": "https://localhost:8080/"
        },
        "id": "OTpcEU8i7ogU",
        "outputId": "9541ba52-b646-4d80-f6c3-46845c877ff4"
      },
      "outputs": [
        {
          "name": "stdout",
          "output_type": "stream",
          "text": [
            "+-----------------------+\n",
            "|number_of_unique_states|\n",
            "+-----------------------+\n",
            "|                     64|\n",
            "+-----------------------+\n",
            "\n"
          ]
        }
      ],
      "source": [
        "from pyspark.sql.functions import countDistinct\n",
        "parking2022.select(countDistinct(\"registration_State\").alias(\"number_of_unique_states\")).show()\n",
        "#parking2022.select(distinct(\"registration_State\")).show()"
      ]
    },
    {
      "cell_type": "code",
      "execution_count": null,
      "metadata": {
        "colab": {
          "base_uri": "https://localhost:8080/"
        },
        "id": "bsksrmz1AJ0a",
        "outputId": "31a5aac7-c7da-4e9b-bd4f-2d0f31cc0175"
      },
      "outputs": [
        {
          "name": "stdout",
          "output_type": "stream",
          "text": [
            "+------------------+\n",
            "|Registration_State|\n",
            "+------------------+\n",
            "|                NJ|\n",
            "|                ME|\n",
            "|                NY|\n",
            "|                NC|\n",
            "|                MA|\n",
            "|                FL|\n",
            "|                PA|\n",
            "|                TX|\n",
            "|                GA|\n",
            "|                CO|\n",
            "|                LA|\n",
            "|                VA|\n",
            "|                KY|\n",
            "|                RI|\n",
            "|                NH|\n",
            "|                CT|\n",
            "|                SC|\n",
            "|                AZ|\n",
            "|                MN|\n",
            "|                DC|\n",
            "+------------------+\n",
            "only showing top 20 rows\n",
            "\n"
          ]
        }
      ],
      "source": [
        "distinct_states = parking2022.select('Registration_State').distinct()\n",
        "distinct_states.show()\n"
      ]
    },
    {
      "cell_type": "code",
      "execution_count": null,
      "metadata": {
        "colab": {
          "base_uri": "https://localhost:8080/"
        },
        "id": "5LDFhnkn-T11",
        "outputId": "59b6de31-a123-45fe-a0c5-8031e084733e"
      },
      "outputs": [
        {
          "name": "stdout",
          "output_type": "stream",
          "text": [
            "+------------------+------------+\n",
            "|registration_state|ticket_count|\n",
            "+------------------+------------+\n",
            "|                NY|     5591980|\n",
            "|                NJ|      656580|\n",
            "|                PA|      229326|\n",
            "|                FL|      146887|\n",
            "|                CT|      115292|\n",
            "|                TX|       71458|\n",
            "|                IN|       62371|\n",
            "|                MA|       48698|\n",
            "|                GA|       47134|\n",
            "|                VA|       45763|\n",
            "|                NC|       41168|\n",
            "|                MD|       39071|\n",
            "|                CA|       28178|\n",
            "|                IL|       23386|\n",
            "|                OH|       21349|\n",
            "|                AZ|       19180|\n",
            "|                ME|       17071|\n",
            "|                SC|       16864|\n",
            "|                TN|       12638|\n",
            "|                DE|       12331|\n",
            "+------------------+------------+\n",
            "only showing top 20 rows\n",
            "\n"
          ]
        }
      ],
      "source": [
        "# Check the ticket counts based on registered state again and see if 10794 rows associated to state 99 has been now added to\n",
        "# NY (4273951 + 10794 = 4284745)\n",
        "\n",
        "registered_state_wise_tickets = spark.sql(\"select Registration_State as registration_state, count(*) as ticket_count \\\n",
        "                               from parking_2022 \\\n",
        "                               group by registration_state \\\n",
        "                               order by ticket_count desc\")\n",
        "\n",
        "registered_state_wise_tickets.show()"
      ]
    },
    {
      "cell_type": "code",
      "execution_count": null,
      "metadata": {
        "colab": {
          "base_uri": "https://localhost:8080/"
        },
        "id": "kLNrEDg-CaNM",
        "outputId": "f58bbf54-8ba3-4456-ac0c-1f0b523559a2"
      },
      "outputs": [
        {
          "name": "stdout",
          "output_type": "stream",
          "text": [
            "+------------------+------------+\n",
            "|registration_state|ticket_count|\n",
            "+------------------+------------+\n",
            "|                NY|     5591980|\n",
            "|                NJ|      656580|\n",
            "|                PA|      229326|\n",
            "|                FL|      146887|\n",
            "|                CT|      115292|\n",
            "|                TX|       71458|\n",
            "|                IN|       62371|\n",
            "|                MA|       48698|\n",
            "|                GA|       47134|\n",
            "|                VA|       45763|\n",
            "|                NC|       41168|\n",
            "|                MD|       39071|\n",
            "|                CA|       28178|\n",
            "|                IL|       23386|\n",
            "|                OH|       21349|\n",
            "|                AZ|       19180|\n",
            "|                ME|       17071|\n",
            "|                SC|       16864|\n",
            "|                TN|       12638|\n",
            "|                DE|       12331|\n",
            "|                MN|       10197|\n",
            "|                WA|        9195|\n",
            "|                MI|        9103|\n",
            "|                AL|        8885|\n",
            "|                VT|        8318|\n",
            "|                RI|        7521|\n",
            "|                NH|        6656|\n",
            "|                OK|        5292|\n",
            "|                WI|        5112|\n",
            "|                CO|        4677|\n",
            "|                OR|        4096|\n",
            "|                MS|        3924|\n",
            "|                MO|        3791|\n",
            "|                KY|        2959|\n",
            "|                LA|        2763|\n",
            "|                ON|        2404|\n",
            "|                SD|        2234|\n",
            "|                WV|        2208|\n",
            "|                DC|        2078|\n",
            "|                QB|        1826|\n",
            "|                AR|        1789|\n",
            "|                NV|        1469|\n",
            "|                UT|        1422|\n",
            "|                GV|        1411|\n",
            "|                IA|        1357|\n",
            "|                MT|        1285|\n",
            "|                NM|        1213|\n",
            "|                DP|         897|\n",
            "|                KS|         865|\n",
            "|                NE|         836|\n",
            "|                ID|         741|\n",
            "|                WY|         385|\n",
            "|                ND|         326|\n",
            "|                AK|         324|\n",
            "|                PR|         154|\n",
            "|                HI|         154|\n",
            "|                NS|          78|\n",
            "|                AB|          61|\n",
            "|                BC|          47|\n",
            "|                NB|          42|\n",
            "|                FO|          28|\n",
            "|                MB|          24|\n",
            "|                PE|          11|\n",
            "|                SK|           6|\n",
            "+------------------+------------+\n",
            "\n"
          ]
        }
      ],
      "source": [
        "# Check the ticket counts based on registered state again and see if 10794 rows associated to state 99 has been now added to\n",
        "# NY (4273951 + 10794 = 4284745)\n",
        "\n",
        "registered_state_wise_tickets = spark.sql(\"select Registration_State as registration_state, count(*) as ticket_count \\\n",
        "                               from parking_2022 \\\n",
        "                               group by registration_state \\\n",
        "                               order by ticket_count desc\")\n",
        "\n",
        "registered_state_wise_tickets.show(100)"
      ]
    },
    {
      "cell_type": "code",
      "execution_count": null,
      "metadata": {
        "colab": {
          "base_uri": "https://localhost:8080/"
        },
        "id": "VRPlH6MrCm9c",
        "outputId": "dae9160b-248e-454f-d763-e193fb7c7b75"
      },
      "outputs": [
        {
          "name": "stdout",
          "output_type": "stream",
          "text": [
            "+------------------+\n",
            "|Registration_State|\n",
            "+------------------+\n",
            "|NJ                |\n",
            "|ME                |\n",
            "|NY                |\n",
            "|NC                |\n",
            "|MA                |\n",
            "|FL                |\n",
            "|PA                |\n",
            "|TX                |\n",
            "|GA                |\n",
            "|CO                |\n",
            "|LA                |\n",
            "|VA                |\n",
            "|KY                |\n",
            "|RI                |\n",
            "|NH                |\n",
            "|CT                |\n",
            "|SC                |\n",
            "|AZ                |\n",
            "|MN                |\n",
            "|DC                |\n",
            "|OR                |\n",
            "|NV                |\n",
            "|CA                |\n",
            "|VT                |\n",
            "|MD                |\n",
            "|IL                |\n",
            "|WA                |\n",
            "|MS                |\n",
            "|AL                |\n",
            "|IN                |\n",
            "|OH                |\n",
            "|TN                |\n",
            "|IA                |\n",
            "|NM                |\n",
            "|AK                |\n",
            "|OK                |\n",
            "|UT                |\n",
            "|NS                |\n",
            "|WY                |\n",
            "|BC                |\n",
            "|MI                |\n",
            "|GV                |\n",
            "|QB                |\n",
            "|WI                |\n",
            "|ID                |\n",
            "|NE                |\n",
            "|MT                |\n",
            "|DE                |\n",
            "|MO                |\n",
            "|MB                |\n",
            "|ND                |\n",
            "|SD                |\n",
            "|FO                |\n",
            "|ON                |\n",
            "|AB                |\n",
            "|WV                |\n",
            "|KS                |\n",
            "|AR                |\n",
            "|NB                |\n",
            "|PR                |\n",
            "|HI                |\n",
            "|DP                |\n",
            "|PE                |\n",
            "|SK                |\n",
            "+------------------+\n",
            "\n"
          ]
        }
      ],
      "source": [
        "distinct_states = parking2022.select('Registration_State').distinct()\n",
        "distinct_states.show(distinct_states.count(), False)\n"
      ]
    },
    {
      "cell_type": "markdown",
      "metadata": {
        "id": "8ScXZN3WEPKi"
      },
      "source": [
        "The values \"SK\", \"PE\", \"MB\", and \"FO\" are likely abbreviations for provinces or territories in Canada. \"SK\" stands for Saskatchewan, \"PE\" stands for Prince Edward Island, \"MB\" stands for Manitoba, and \"FO\" could potentially stand for Newfoundland and Labrador. These abbreviations may be present in the data because the parking tickets were issued to vehicles registered in Canada.\n",
        "\n",
        "There are a total of 62 unique rows in this table, including both US states and provinces/territories outside the US.\n",
        "\n",
        "There are 50 US states mentioned in this table, and 12 provinces/territories outside the US (ON, QB, GV, DP, NS, AB, BC, NB, FO, MB, PE, SK).\n",
        "\n",
        "From the table values above, the values of the abbreviations for provinces or territories outside the US are:\n",
        "\n",
        "ON: Ontario, Canada\n",
        "QB: Quebec, Canada\n",
        "DP: Diplomatic (Foreign) Vehicles\n",
        "GV: Government Vehicles\n",
        "NS: Nova Scotia, Canada\n",
        "AB: Alberta, Canada\n",
        "BC: British Columbia, Canada\n",
        "NB: New Brunswick, Canada\n",
        "FO: Foreign Vehicles\n",
        "MB: Manitoba, Canada\n",
        "PE: Prince Edward Island, Canada\n",
        "SK: Saskatchewan, Canada\n",
        "\n",
        "\n",
        "\n",
        "\n",
        "Here is a list of US states and their full forms:\n",
        "\n",
        "NY: New York\n",
        "NJ: New Jersey\n",
        "PA: Pennsylvania\n",
        "FL: Florida\n",
        "CT: Connecticut\n",
        "TX: Texas\n",
        "IN: Indiana\n",
        "MA: Massachusetts\n",
        "GA: Georgia\n",
        "VA: Virginia\n",
        "NC: North Carolina\n",
        "MD: Maryland\n",
        "CA: California\n",
        "IL: Illinois\n",
        "OH: Ohio\n",
        "AZ: Arizona\n",
        "ME: Maine\n",
        "SC: South Carolina\n",
        "TN: Tennessee\n",
        "DE: Delaware\n",
        "MN: Minnesota\n",
        "WA: Washington\n",
        "MI: Michigan\n",
        "AL: Alabama\n",
        "VT: Vermont\n",
        "RI: Rhode Island\n",
        "NH: New Hampshire\n",
        "OK: Oklahoma\n",
        "WI: Wisconsin\n",
        "CO: Colorado\n",
        "OR: Oregon\n",
        "MS: Mississippi\n",
        "MO: Missouri\n",
        "KY: Kentucky\n",
        "LA: Louisiana\n",
        "DC: District of Columbia\n",
        "AR: Arkansas\n",
        "NV: Nevada\n",
        "UT: Utah\n",
        "IA: Iowa\n",
        "MT: Montana\n",
        "NM: New Mexico\n",
        "KS: Kansas\n",
        "NE: Nebraska\n",
        "ID: Idaho\n",
        "WY: Wyoming\n",
        "ND: North Dakota\n",
        "AK: Alaska\n",
        "HI: Hawaii\n",
        "And here are the full forms of some other regions that are not US states or territories:\n",
        "\n",
        "ON: Ontario (a province of Canada)\n",
        "QB: Quebec (a province of Canada)\n",
        "GV: Guanajuato (a state in Mexico)\n",
        "DP: Durango (a state in Mexico)\n",
        "NS: Nova Scotia (a province of Canada)\n",
        "AB: Alberta (a province of Canada)\n",
        "BC: British Columbia (a province of Canada)\n",
        "NB: New Brunswick (a province of Canada)\n",
        "FO: Faroe Islands (an autonomous territory of Denmark)\n",
        "MB: Manitoba (a province of Canada)\n",
        "PE: Prince Edward Island (a province of Canada)\n",
        "SK: Saskatchewan (a province of Canada)\n",
        "\n",
        "\n",
        "\n",
        "\n"
      ]
    },
    {
      "cell_type": "markdown",
      "metadata": {
        "id": "Pc0NcHb97y-5"
      },
      "source": [
        "#Step 6 : Aggregation Tasks\n",
        "6.1. How often does each violation code occur? Display the frequency of the top five violation codes."
      ]
    },
    {
      "cell_type": "code",
      "execution_count": null,
      "metadata": {
        "colab": {
          "base_uri": "https://localhost:8080/"
        },
        "id": "UQnbdtYy70QF",
        "outputId": "0d61a887-030d-4676-886b-2641da8afc9c"
      },
      "outputs": [
        {
          "name": "stdout",
          "output_type": "stream",
          "text": [
            "+--------------+----------------+\n",
            "|violation_code|ticket_frequency|\n",
            "+--------------+----------------+\n",
            "|            36|         2172974|\n",
            "|            21|          781055|\n",
            "|            38|          549389|\n",
            "|            14|          460303|\n",
            "|            40|          403276|\n",
            "+--------------+----------------+\n",
            "\n"
          ]
        }
      ],
      "source": [
        "# How often does each violation code occur? Display the frequency of the top five violation codes\n",
        "\n",
        "violation_code_frequency = spark.sql(\"select Violation_Code as violation_code, count(*) as ticket_frequency \\\n",
        "                                      from parking_2022 \\\n",
        "                                      group by violation_code \\\n",
        "                                      order by ticket_frequency desc \\\n",
        "                                      limit 5\")\n",
        "violation_code_frequency.show()"
      ]
    },
    {
      "cell_type": "markdown",
      "metadata": {
        "id": "0NaG65kXC_nk"
      },
      "source": [
        "\n",
        "\n",
        "1.   36 -  Exceeding the posted speed limit in a school zone during the specified hours of operation, or failing to yield to pedestrians in a crosswalk within a school zone during school hours.\n",
        "2.   21 - Street Cleaning: No Parking Where Parking is Normally Allowed Due to Street Cleaning.\n",
        "3.  38 - Parking in front of a pedestrian ramp or within an access aisle for people with disabilities.\n",
        "4.  14 - Parking in a truck loading zone without proper authorization or a commercial vehicle permit.\n",
        "5. 40 - Parking in a bike lane, or creating an obstruction in a bike lane."
      ]
    },
    {
      "cell_type": "code",
      "execution_count": null,
      "metadata": {
        "colab": {
          "base_uri": "https://localhost:8080/",
          "height": 497
        },
        "id": "WZrVjl4n97Av",
        "outputId": "1853db04-6a2f-42c0-cc51-2bcb6ea1abb1"
      },
      "outputs": [
        {
          "data": {
            "text/plain": [
              "<Figure size 640x480 with 0 Axes>"
            ]
          },
          "metadata": {},
          "output_type": "display_data"
        },
        {
          "data": {
            "image/png": "[encoded data removed]",
            "text/plain": [
              "<Figure size 640x480 with 1 Axes>"
            ]
          },
          "metadata": {},
          "output_type": "display_data"
        }
      ],
      "source": [
        "# create a dataframe with the violation_code_frequency\n",
        "\n",
        "violation_code_frequency_df = violation_code_frequency.toPandas()\n",
        "\n",
        "# plot a graph\n",
        "plt.clf()\n",
        "violation_code_frequency_df.plot(x='violation_code', y='ticket_frequency', kind='bar')\n",
        "plt.title('Frequency Of Top 5 Violation Code For 2022', fontsize = 14)\n",
        "plt.xlabel(\"Violation Code\", fontsize = 12)\n",
        "plt.ylabel(\"Ticket Frequency\", fontsize = 12)\n",
        "plt.legend('')\n",
        "plt.show()"
      ]
    },
    {
      "cell_type": "markdown",
      "metadata": {
        "id": "TCPU5hvBKzBe"
      },
      "source": [
        "6.2. How often does each 'vehicle body type' get a parking ticket? How about the 'vehicle make'? (Hint: Find the top 5 for both.)"
      ]
    },
    {
      "cell_type": "code",
      "execution_count": null,
      "metadata": {
        "colab": {
          "base_uri": "https://localhost:8080/"
        },
        "id": "fyWUgtv9KeE2",
        "outputId": "f7d20df1-8054-4e44-b636-61cf5e8191d3"
      },
      "outputs": [
        {
          "name": "stdout",
          "output_type": "stream",
          "text": [
            "+-----------------+----------------+\n",
            "|vehicle_body_type|ticket_frequency|\n",
            "+-----------------+----------------+\n",
            "|             SUBN|         3124187|\n",
            "|             4DSD|         2077418|\n",
            "|              VAN|          640294|\n",
            "|             PICK|          212023|\n",
            "|             DELV|          204294|\n",
            "+-----------------+----------------+\n",
            "\n"
          ]
        }
      ],
      "source": [
        "# Display the frequency of the top five Vehicle Body Type getting a parking ticket\n",
        "\n",
        "vehicle_body_type_frequency = spark.sql(\"select Vehicle_Body_Type as vehicle_body_type, count(*) as ticket_frequency \\\n",
        "                                      from parking_2022 \\\n",
        "                                      group by vehicle_body_type \\\n",
        "                                      order by ticket_frequency desc \\\n",
        "                                      limit 5\")\n",
        "\n",
        "vehicle_body_type_frequency.show()"
      ]
    },
    {
      "cell_type": "code",
      "execution_count": null,
      "metadata": {
        "colab": {
          "base_uri": "https://localhost:8080/",
          "height": 534
        },
        "id": "kvx_-E4FK6yj",
        "outputId": "208f2c7a-e983-40e6-c56c-333ae69d7e48"
      },
      "outputs": [
        {
          "data": {
            "text/plain": [
              "<Figure size 640x480 with 0 Axes>"
            ]
          },
          "metadata": {},
          "output_type": "display_data"
        },
        {
          "data": {
            "image/png": "[encoded data removed]",
            "text/plain": [
              "<Figure size 640x480 with 1 Axes>"
            ]
          },
          "metadata": {},
          "output_type": "display_data"
        }
      ],
      "source": [
        "# create a dataframe with the vehicle_body_type_frequency\n",
        "\n",
        "vehicle_body_type_frequency_df = vehicle_body_type_frequency.toPandas()\n",
        "\n",
        "# plot a graph\n",
        "plt.clf()\n",
        "vehicle_body_type_frequency_df.head(5).plot(x='vehicle_body_type', y='ticket_frequency', kind='bar')\n",
        "plt.title('Frequency Of Top 5 Parking Violations Based On Vehicle Body Type For 2022', fontsize = 14)\n",
        "plt.xlabel(\"Vehicle Body Type\", fontsize = 12)\n",
        "plt.ylabel(\"Ticket Frequency\", fontsize = 12)\n",
        "plt.legend('')\n",
        "plt.show()\n"
      ]
    },
    {
      "cell_type": "code",
      "execution_count": null,
      "metadata": {
        "colab": {
          "base_uri": "https://localhost:8080/"
        },
        "id": "sXWq_5N3K8vd",
        "outputId": "a459eff1-d209-46ba-8dbe-1490b746b336"
      },
      "outputs": [
        {
          "name": "stdout",
          "output_type": "stream",
          "text": [
            "+------------+----------------+\n",
            "|vehicle_make|ticket_frequency|\n",
            "+------------+----------------+\n",
            "|       HONDA|          892055|\n",
            "|       TOYOT|          813451|\n",
            "|        FORD|          703499|\n",
            "|       NISSA|          622117|\n",
            "|       CHEVR|          388320|\n",
            "+------------+----------------+\n",
            "\n"
          ]
        }
      ],
      "source": [
        "# Display the frequency of the top five Vehicle Make getting a parking ticket\n",
        "\n",
        "vehicle_make_ticket_frequency = spark.sql(\"select Vehicle_Make as vehicle_make, count(*) as ticket_frequency \\\n",
        "                                          from parking_2022 \\\n",
        "                                          group by vehicle_make \\\n",
        "                                          order by ticket_frequency desc \\\n",
        "                                          limit 5\")\n",
        "vehicle_make_ticket_frequency.show()\n"
      ]
    },
    {
      "cell_type": "code",
      "execution_count": null,
      "metadata": {
        "colab": {
          "base_uri": "https://localhost:8080/",
          "height": 531
        },
        "id": "yoNhyGnMK-ej",
        "outputId": "d8cf4d27-a492-46b4-9d06-c9b1abe892c9"
      },
      "outputs": [
        {
          "data": {
            "text/plain": [
              "<Figure size 640x480 with 0 Axes>"
            ]
          },
          "metadata": {},
          "output_type": "display_data"
        },
        {
          "data": {
            "image/png": "[encoded data removed]",
            "text/plain": [
              "<Figure size 640x480 with 1 Axes>"
            ]
          },
          "metadata": {},
          "output_type": "display_data"
        }
      ],
      "source": [
        "# create a dataframe with the vehicle_make_ticket_frequency\n",
        "vehicle_make_ticket_frequency_df = vehicle_make_ticket_frequency.toPandas()\n",
        "\n",
        "# plot a graph\n",
        "plt.clf()\n",
        "vehicle_make_ticket_frequency_df.plot(x='vehicle_make', y='ticket_frequency', kind='bar')\n",
        "plt.title('Frequency Of Top 5 Parking Violations Based On Vehicle Make For 2022', fontsize = 14)\n",
        "plt.xlabel(\"Vehicle Make\", fontsize = 12)\n",
        "plt.ylabel(\"Ticket Frequency\", fontsize = 12)\n",
        "plt.legend('')\n",
        "plt.show()"
      ]
    },
    {
      "cell_type": "markdown",
      "metadata": {
        "id": "0rl2Juu6LA4a"
      },
      "source": [
        "6.3. A precinct is a police station that has a certain zone of the city under its command. Find the (5 highest) frequencies of tickets for each of the following :\n",
        "'Violation Precinct' (This is the precinct of the zone where the violation occurred). Using this, can you draw any insights for parking violations in any specific areas of the city?\n",
        "'Issuer Precinct' (This is the precinct that issued the ticket.)\n",
        "Here, you would have noticed that the dataframe has the'Violating Precinct' or 'Issuing Precinct' as '0'. These are erroneous entries. Hence, you need to provide the records for five correct precincts. (Hint: Print the top six entries after sorting.)"
      ]
    },
    {
      "cell_type": "code",
      "execution_count": null,
      "metadata": {
        "colab": {
          "base_uri": "https://localhost:8080/"
        },
        "id": "IQNoCoxQLChO",
        "outputId": "a3fea923-d032-4127-9962-52d3f008f1b0"
      },
      "outputs": [
        {
          "name": "stdout",
          "output_type": "stream",
          "text": [
            "+------------------+----------------+\n",
            "|violation_precinct|ticket_frequency|\n",
            "+------------------+----------------+\n",
            "|                 0|         2700953|\n",
            "|                19|          224703|\n",
            "|               114|          180404|\n",
            "|                13|          162145|\n",
            "|                18|          154857|\n",
            "|                14|          140062|\n",
            "+------------------+----------------+\n",
            "only showing top 6 rows\n",
            "\n"
          ]
        }
      ],
      "source": [
        "# Display the frequency of the top five violation precinct\n",
        "\n",
        "violation_precinct_ticket_frequency = spark.sql(\"select Violation_Precinct as violation_precinct, count(*) as ticket_frequency \\\n",
        "                                                from parking_2022 \\\n",
        "                                                group by violation_precinct \\\n",
        "                                                order by ticket_frequency desc\")\n",
        "violation_precinct_ticket_frequency.show(6)"
      ]
    },
    {
      "cell_type": "code",
      "execution_count": null,
      "metadata": {
        "colab": {
          "base_uri": "https://localhost:8080/",
          "height": 506
        },
        "id": "ignXN56PLEU-",
        "outputId": "ce0f33fb-838a-437c-f0ff-c1df39f3c957"
      },
      "outputs": [
        {
          "data": {
            "text/plain": [
              "<Figure size 640x480 with 0 Axes>"
            ]
          },
          "metadata": {},
          "output_type": "display_data"
        },
        {
          "data": {
            "image/png": "[encoded data removed]",
            "text/plain": [
              "<Figure size 640x480 with 1 Axes>"
            ]
          },
          "metadata": {},
          "output_type": "display_data"
        }
      ],
      "source": [
        "# create a dataframe with the violation_precinct_ticket_frequency\n",
        "\n",
        "violation_precinct_ticket_frequency_df = violation_precinct_ticket_frequency.toPandas()\n",
        "\n",
        "# plot a graph\n",
        "plt.clf()\n",
        "violation_precinct_ticket_frequency_df[violation_precinct_ticket_frequency_df.violation_precinct != 0].head(5)\\\n",
        "                                        .plot(x='violation_precinct', y='ticket_frequency', kind='bar', color='olive')\n",
        "\n",
        "plt.title('Frequency Of Top 5 Violation Precinct For 2022', fontsize = 14)\n",
        "plt.xlabel(\"Violation Precinct\", fontsize = 12)\n",
        "plt.ylabel(\"Ticket Frequency\", fontsize = 12)\n",
        "plt.legend('')\n",
        "plt.show()"
      ]
    },
    {
      "cell_type": "code",
      "execution_count": null,
      "metadata": {
        "colab": {
          "base_uri": "https://localhost:8080/"
        },
        "id": "hx8w_K6yLGHL",
        "outputId": "079dc13d-a8f4-450f-b7fd-80296a861302"
      },
      "outputs": [
        {
          "name": "stdout",
          "output_type": "stream",
          "text": [
            "+---------------+----------------+\n",
            "|issuer_precinct|ticket_frequency|\n",
            "+---------------+----------------+\n",
            "|              0|         2914218|\n",
            "|             19|          221492|\n",
            "|            114|          175466|\n",
            "|             13|          159279|\n",
            "|             18|          154754|\n",
            "|             14|          139769|\n",
            "+---------------+----------------+\n",
            "only showing top 6 rows\n",
            "\n"
          ]
        }
      ],
      "source": [
        "# Display the frequency of the top six issuer precinct\n",
        "\n",
        "issuer_precinct_ticket_frequency = spark.sql(\"select Issuer_Precinct as issuer_precinct, count(*) as ticket_frequency \\\n",
        "                                                from parking_2022 \\\n",
        "                                                group by issuer_precinct \\\n",
        "                                                order by ticket_frequency desc\")\n",
        "\n",
        "issuer_precinct_ticket_frequency.show(6)"
      ]
    },
    {
      "cell_type": "markdown",
      "metadata": {
        "id": "lK5m59YmFJC_"
      },
      "source": [
        "0 - This is not a precinct code, but rather a prefix that is added to certain violation codes that are related to vehicle registration and inspection, such as \"02\" (No standing where standing is not allowed by sign, street marking, or traffic control device - no stopping/parking where prohibited by NYC DOF).\n",
        "\n",
        "19 - Precinct located in the neighborhood of East New York in Brooklyn.\n",
        "\n",
        "114 - Precinct located in the neighborhood of Rockaway Park in Queens.\n",
        "\n",
        "13 - Precinct located in the neighborhood of East Flatbush in Brooklyn.\n",
        "\n",
        "18 - Precinct located in the neighborhood of Morrisania in the Bronx.\n",
        "\n",
        "14 - Precinct located in the neighborhoods of Red Hook and Sunset Park in Brooklyn."
      ]
    },
    {
      "cell_type": "code",
      "execution_count": null,
      "metadata": {
        "colab": {
          "base_uri": "https://localhost:8080/",
          "height": 506
        },
        "id": "xw_tXMYNLHs6",
        "outputId": "2676dbfb-a488-4324-95a2-968c78341fbe"
      },
      "outputs": [
        {
          "data": {
            "text/plain": [
              "<Figure size 640x480 with 0 Axes>"
            ]
          },
          "metadata": {},
          "output_type": "display_data"
        },
        {
          "data": {
            "image/png": "[encoded data removed]",
            "text/plain": [
              "<Figure size 640x480 with 1 Axes>"
            ]
          },
          "metadata": {},
          "output_type": "display_data"
        }
      ],
      "source": [
        "# create a dataframe with the issuer_precinct_ticket_frequency\n",
        "\n",
        "issuer_precinct_ticket_frequency_df = issuer_precinct_ticket_frequency.toPandas()\n",
        "\n",
        "# plot a graph\n",
        "plt.clf()\n",
        "issuer_precinct_ticket_frequency_df[issuer_precinct_ticket_frequency_df.issuer_precinct != 0].head(5)\\\n",
        "                                        .plot(x='issuer_precinct', y='ticket_frequency', kind='bar', color='olive')\n",
        "\n",
        "plt.title('Frequency Of Top 5 Issuer Precinct For 2022', fontsize = 14)\n",
        "plt.xlabel(\"Issuer Precinct\", fontsize = 12)\n",
        "plt.ylabel(\"Ticket Frequency\", fontsize = 12)\n",
        "plt.legend('')\n",
        "plt.show()"
      ]
    },
    {
      "cell_type": "markdown",
      "metadata": {
        "id": "zkoedAVCLJiY"
      },
      "source": [
        "6.4. Find the violation code frequencies for three precincts that have issued the most number of tickets. Do these precinct zones have an exceptionally high frequency of certain violation codes? Are these codes common across precincts?\n",
        "-(Hint: In the SQL view, use the 'where' attribute to filter among three precincts.)\n",
        "Solution : From the results of the question above, it is clear that the three precincts that have issued the most number of tickets are 19, 14 and 1.Hence the violation code frequency for the three precincts are as given below :"
      ]
    },
    {
      "cell_type": "code",
      "execution_count": null,
      "metadata": {
        "colab": {
          "base_uri": "https://localhost:8080/"
        },
        "id": "S3wFc1EZLKa4",
        "outputId": "ef3fa415-1ccb-4081-dac1-8e93a30e532f"
      },
      "outputs": [
        {
          "name": "stdout",
          "output_type": "stream",
          "text": [
            "+--------------+----------------+\n",
            "|violation_code|ticket_frequency|\n",
            "+--------------+----------------+\n",
            "|            38|           31070|\n",
            "|            21|           27571|\n",
            "|            14|           23899|\n",
            "|            20|           22191|\n",
            "|            40|           14652|\n",
            "+--------------+----------------+\n",
            "\n"
          ]
        }
      ],
      "source": [
        "# Violation code Frquency for Issuer Precinct 19 \n",
        "\n",
        "violation_code_frequency_precinct19 = spark.sql(\"select Violation_Code as violation_code, count(*) as ticket_frequency \\\n",
        "                                                from parking_2022 \\\n",
        "                                                where Issuer_Precinct = 19 \\\n",
        "                                                group by violation_code \\\n",
        "                                                order by ticket_frequency desc \\\n",
        "                                                limit 5 \")\n",
        "\n",
        "violation_code_frequency_precinct19.show()"
      ]
    },
    {
      "cell_type": "code",
      "execution_count": null,
      "metadata": {
        "colab": {
          "base_uri": "https://localhost:8080/"
        },
        "id": "1Iwj4uBAMPD8",
        "outputId": "b45d6f7f-cf81-4bf6-d4d9-7e9f6e5bb655"
      },
      "outputs": [
        {
          "name": "stdout",
          "output_type": "stream",
          "text": [
            "+--------------+----------------+\n",
            "|violation_code|ticket_frequency|\n",
            "+--------------+----------------+\n",
            "|            21|           39114|\n",
            "|            38|           33761|\n",
            "|            20|           15399|\n",
            "|            40|           14255|\n",
            "|            71|           13981|\n",
            "+--------------+----------------+\n",
            "\n"
          ]
        }
      ],
      "source": [
        " #Violation code Frquency for Issuer Precinct 114\n",
        "\n",
        "violation_code_frequency_precinct14 = spark.sql(\"select Violation_Code as violation_code, count(*) as ticket_frequency \\\n",
        "                                                from parking_2022 \\\n",
        "                                                where Issuer_Precinct = 114 \\\n",
        "                                                group by violation_code \\\n",
        "                                                order by ticket_frequency desc \\\n",
        "                                                limit 5 \")\n",
        "\n",
        "violation_code_frequency_precinct14.show()"
      ]
    },
    {
      "cell_type": "code",
      "execution_count": null,
      "metadata": {
        "colab": {
          "base_uri": "https://localhost:8080/"
        },
        "id": "t1qE-oxuMXbS",
        "outputId": "80485230-2581-4165-dd0c-326411cacda6"
      },
      "outputs": [
        {
          "name": "stdout",
          "output_type": "stream",
          "text": [
            "+--------------+----------------+\n",
            "|violation_code|ticket_frequency|\n",
            "+--------------+----------------+\n",
            "|            69|           24780|\n",
            "|            31|           24395|\n",
            "|            47|           17820|\n",
            "|            14|           12718|\n",
            "|            38|           11234|\n",
            "+--------------+----------------+\n",
            "\n"
          ]
        }
      ],
      "source": [
        "# Violation code Frquency for Issuer Precinct 13\n",
        "\n",
        "violation_code_frequency_precinct1 = spark.sql(\"select Violation_Code as violation_code, count(*) as ticket_frequency \\\n",
        "                                                from parking_2022 \\\n",
        "                                                where Issuer_Precinct = 13 \\\n",
        "                                                group by violation_code \\\n",
        "                                                order by ticket_frequency desc \\\n",
        "                                                limit 5 \")\n",
        "\n",
        "violation_code_frequency_precinct1.show()"
      ]
    },
    {
      "cell_type": "code",
      "execution_count": null,
      "metadata": {
        "colab": {
          "base_uri": "https://localhost:8080/"
        },
        "id": "zbu3RK9pMZth",
        "outputId": "b466005d-c9d1-42a3-fc99-774d5a637762"
      },
      "outputs": [
        {
          "name": "stdout",
          "output_type": "stream",
          "text": [
            "+--------------+----------------+\n",
            "|violation_code|ticket_frequency|\n",
            "+--------------+----------------+\n",
            "|            38|           76065|\n",
            "|            21|           73848|\n",
            "|            20|           48363|\n",
            "|            14|           43424|\n",
            "|            31|           34506|\n",
            "+--------------+----------------+\n",
            "\n"
          ]
        }
      ],
      "source": [
        "# Common violation Codes across issuer precincts 19, 114 and 13\n",
        "_\n",
        "common_precincts_violation_codes = spark.sql(\"select Violation_Code as violation_code , count(*) as ticket_frequency \\\n",
        "                                              from parking_2022 \\\n",
        "                                              where Issuer_Precinct in (19, 114, 13) \\\n",
        "                                              group by violation_code \\\n",
        "                                              order by ticket_frequency desc \\\n",
        "                                              limit 5 \")\n",
        "\n",
        "common_precincts_violation_codes.show()"
      ]
    },
    {
      "cell_type": "code",
      "execution_count": null,
      "metadata": {
        "colab": {
          "base_uri": "https://localhost:8080/",
          "height": 497
        },
        "id": "kn7ae7GYMeqh",
        "outputId": "a05cdcd1-04ad-4378-8a06-128063f4a23a"
      },
      "outputs": [
        {
          "data": {
            "text/plain": [
              "<Figure size 640x480 with 0 Axes>"
            ]
          },
          "metadata": {},
          "output_type": "display_data"
        },
        {
          "data": {
            "image/png": "[encoded data removed]",
            "text/plain": [
              "<Figure size 640x480 with 1 Axes>"
            ]
          },
          "metadata": {},
          "output_type": "display_data"
        }
      ],
      "source": [
        "# create a dataframe with the common_precincts_violation_codes\n",
        "\n",
        "common_precincts_violation_codes_df = common_precincts_violation_codes.toPandas()\n",
        "\n",
        "# plot a graph\n",
        "plt.clf()\n",
        "common_precincts_violation_codes_df.plot(x='violation_code', y='ticket_frequency', kind='bar')\n",
        "plt.title('Violation Codes Across Issuer Precincts 19, 114 and 13', fontsize = 14)\n",
        "plt.xlabel(\"Violation Codes\", fontsize = 12)\n",
        "plt.ylabel(\"Ticket Frequency\", fontsize = 12)\n",
        "plt.legend('')\n",
        "plt.show()"
      ]
    },
    {
      "cell_type": "markdown",
      "metadata": {
        "id": "BfKEHp-fMnnD"
      },
      "source": [
        "Divide 24 hours into six equal discrete bins of time. Choose the intervals as you see fit. For each of these groups, find the three most commonly occurring violations.\n"
      ]
    },
    {
      "cell_type": "code",
      "execution_count": null,
      "metadata": {
        "colab": {
          "base_uri": "https://localhost:8080/"
        },
        "id": "vDcIQt9yMg8u",
        "outputId": "ea551293-af08-4713-d2fa-4b05378ab2f2"
      },
      "outputs": [
        {
          "name": "stdout",
          "output_type": "stream",
          "text": [
            "+--------------+--------------+--------------+------------------+\n",
            "|Summons_Number|Violation_Code|Violation_Time|Violation_Time_Bin|\n",
            "+--------------+--------------+--------------+------------------+\n",
            "|    1472427087|            46|         0238A|                 1|\n",
            "|    1472133560|            78|         0154A|                 1|\n",
            "|    1474450842|            46|         1150A|                 3|\n",
            "|    1473476173|            14|         1252A|                 1|\n",
            "|    1476043383|            20|         0815P|                 6|\n",
            "|    1478293986|            14|         0331P|                 4|\n",
            "|    1484274763|            14|         0620P|                 5|\n",
            "|    1484277508|            14|         0637P|                 5|\n",
            "|    1484365173|            98|         0322A|                 1|\n",
            "|    1483869519|            50|         0502A|                 2|\n",
            "+--------------+--------------+--------------+------------------+\n",
            "only showing top 10 rows\n",
            "\n"
          ]
        }
      ],
      "source": [
        "# Dividing the 24 hours into six equal discrete bins of time.\n",
        "\n",
        "# We shall divide the 24 hours in the following bin category\n",
        "\n",
        "#     Bin 1 = 12:00 AM to 4:00 AM\n",
        "#     Bin 2 = 4:00 AM to 8:00 AM\n",
        "#     Bin 3 = 8:00 AM to 12:00 PM\n",
        "#     Bin 4 = 12:00 PM to 4:00 PM\n",
        "#     Bin 5 = 4:00 PM to 8:00 PM\n",
        "#     Bin 6 = 8:00 PM to 12:00 AM\n",
        "\n",
        "violation_time_bins_2022_df = spark.sql(\"select Summons_Number, Violation_Code, Violation_Time, \\\n",
        "                                         case \\\n",
        "                                               when substring(Violation_Time,1,2) in ('12', '00','01','02','03') \\\n",
        "                                                       and upper(substring(Violation_Time,-1))='A' \\\n",
        "                                               then 1 \\\n",
        "                                               when substring(Violation_Time,1,2) in ('04','05','06','07') \\\n",
        "                                                       and upper(substring(Violation_Time,-1))='A' \\\n",
        "                                               then 2 \\\n",
        "                                               when substring(Violation_Time,1,2) in ('08','09','10','11') \\\n",
        "                                                       and upper(substring(Violation_Time,-1))='A' \\\n",
        "                                               then 3 \\\n",
        "                                               when substring(Violation_Time,1,2) in ('12','00','01','02','03') \\\n",
        "                                                       and upper(substring(Violation_Time,-1))='P' \\\n",
        "                                               then 4 \\\n",
        "                                               when substring(Violation_Time,1,2) in ('04','05','06','07') \\\n",
        "                                                       and upper(substring(Violation_Time,-1))='P' \\\n",
        "                                               then 5 \\\n",
        "                                               when substring(Violation_Time,1,2) in ('08','09','10','11') \\\n",
        "                                                       and upper(substring(Violation_Time,-1))='P' \\\n",
        "                                               then 6 \\\n",
        "                                               else null \\\n",
        "                                        end as Violation_Time_Bin \\\n",
        "                                        from parking_2022 \\\n",
        "                                        where Violation_Time is not null\")\n",
        "\n",
        "violation_time_bins_2022_df.show(10) "
      ]
    },
    {
      "cell_type": "code",
      "execution_count": null,
      "metadata": {
        "id": "mGgkWuDyMu18"
      },
      "outputs": [],
      "source": [
        "# Create/Replace a Temp View\n",
        "\n",
        "violation_time_bins_2022_df.createOrReplaceTempView(\"violation_time_bins_2022\")\n"
      ]
    },
    {
      "cell_type": "code",
      "execution_count": null,
      "metadata": {
        "colab": {
          "base_uri": "https://localhost:8080/"
        },
        "id": "h4r8_dLJMygZ",
        "outputId": "71643c4a-5a0f-4b4b-a648-b4120e0d8cd5"
      },
      "outputs": [
        {
          "name": "stdout",
          "output_type": "stream",
          "text": [
            "+--------------+---------------+\n",
            "|violation_code|violation_count|\n",
            "+--------------+---------------+\n",
            "|            21|          24903|\n",
            "|            40|          23536|\n",
            "|             7|          13239|\n",
            "+--------------+---------------+\n",
            "\n"
          ]
        }
      ],
      "source": [
        "# Three most commonly occuring violation codes for bin 1 i.e between 12:00 AM to 4:00 AM\n",
        "\n",
        "violation_time_bin1 = spark.sql(\"select Violation_Code as violation_code, count(*) as violation_count \\\n",
        "                                 from violation_time_bins_2022 \\\n",
        "                                 where Violation_Time_Bin == 1 \\\n",
        "                                 group by violation_code \\\n",
        "                                 order by violation_count desc \\\n",
        "                                 limit 3 \")\n",
        "violation_time_bin1.show()"
      ]
    },
    {
      "cell_type": "code",
      "execution_count": null,
      "metadata": {
        "colab": {
          "base_uri": "https://localhost:8080/"
        },
        "id": "JHDqk8kgM3AB",
        "outputId": "d738cd1f-9c7a-46db-dba0-0cc71a5c5225"
      },
      "outputs": [
        {
          "name": "stdout",
          "output_type": "stream",
          "text": [
            "+--------------+---------------+\n",
            "|violation_code|violation_count|\n",
            "+--------------+---------------+\n",
            "|            36|         199394|\n",
            "|            40|         118172|\n",
            "|            14|          91631|\n",
            "+--------------+---------------+\n",
            "\n"
          ]
        }
      ],
      "source": [
        "# Three most commonly occuring violation codes for bin 2 i.e between 4:00 AM to 8:00 AM\n",
        "\n",
        "violation_time_bin2 = spark.sql(\"select Violation_Code as violation_code, count(*) as violation_count \\\n",
        "                                 from violation_time_bins_2022 \\\n",
        "                                 where Violation_Time_Bin == 2 \\\n",
        "                                 group by violation_code \\\n",
        "                                 order by violation_count desc \\\n",
        "                                 limit 3 \")\n",
        "violation_time_bin2.show()"
      ]
    },
    {
      "cell_type": "code",
      "execution_count": null,
      "metadata": {
        "colab": {
          "base_uri": "https://localhost:8080/"
        },
        "id": "5gmUgpzkM-kN",
        "outputId": "45f38aad-8c26-4903-d2b6-da8a8365f18c"
      },
      "outputs": [
        {
          "name": "stdout",
          "output_type": "stream",
          "text": [
            "+--------------+---------------+\n",
            "|violation_code|violation_count|\n",
            "+--------------+---------------+\n",
            "|            21|         606135|\n",
            "|            36|         559645|\n",
            "|            38|         221069|\n",
            "+--------------+---------------+\n",
            "\n"
          ]
        }
      ],
      "source": [
        "# Three most commonly occuring violation codes for bin 3 i.e between 8:00 AM to 12:00 PM\n",
        "\n",
        "violation_time_bin3 = spark.sql(\"select Violation_Code as violation_code, count(*) as violation_count \\\n",
        "                                 from violation_time_bins_2022 \\\n",
        "                                 where Violation_Time_Bin == 3 \\\n",
        "                                 group by violation_code \\\n",
        "                                 order by violation_count desc \\\n",
        "                                 limit 3 \")\n",
        "violation_time_bin3.show()"
      ]
    },
    {
      "cell_type": "code",
      "execution_count": null,
      "metadata": {
        "colab": {
          "base_uri": "https://localhost:8080/"
        },
        "id": "toVssebtNCom",
        "outputId": "2ca5de9a-8d76-4c33-c5e9-78b1fd6eb872"
      },
      "outputs": [
        {
          "name": "stdout",
          "output_type": "stream",
          "text": [
            "+--------------+---------------+\n",
            "|violation_code|violation_count|\n",
            "+--------------+---------------+\n",
            "|            36|         636497|\n",
            "|            38|         242621|\n",
            "|            20|         136992|\n",
            "+--------------+---------------+\n",
            "\n"
          ]
        }
      ],
      "source": [
        "# Three most commonly occuring violation codes for bin 4 i.e between 12:00 PM to 4:00 PM\n",
        "\n",
        "violation_time_bin4 = spark.sql(\"select Violation_Code as violation_code, count(*) as violation_count \\\n",
        "                                 from violation_time_bins_2022 \\\n",
        "                                 where Violation_Time_Bin == 4 \\\n",
        "                                 group by violation_code \\\n",
        "                                 order by violation_count desc \\\n",
        "                                 limit 3 \")\n",
        "violation_time_bin4.show()"
      ]
    },
    {
      "cell_type": "code",
      "execution_count": null,
      "metadata": {
        "colab": {
          "base_uri": "https://localhost:8080/"
        },
        "id": "yLZyYeMVNF1i",
        "outputId": "2e1241b2-923b-4f20-809b-cc470a3e3a5c"
      },
      "outputs": [
        {
          "name": "stdout",
          "output_type": "stream",
          "text": [
            "+--------------+---------------+\n",
            "|violation_code|violation_count|\n",
            "+--------------+---------------+\n",
            "|            36|         543529|\n",
            "|             5|          90874|\n",
            "|            38|          61361|\n",
            "+--------------+---------------+\n",
            "\n"
          ]
        }
      ],
      "source": [
        "# Three most commonly occuring violation codes for bin 5 i.e between 4:00 PM to 8:00 PM\n",
        "\n",
        "violation_time_bin5 = spark.sql(\"select Violation_Code as violation_code, count(*) as violation_count \\\n",
        "                                 from violation_time_bins_2022 \\\n",
        "                                 where Violation_Time_Bin == 5 \\\n",
        "                                 group by violation_code \\\n",
        "                                 order by violation_count desc \\\n",
        "                                 limit 3 \")\n",
        "violation_time_bin5.show()"
      ]
    },
    {
      "cell_type": "code",
      "execution_count": null,
      "metadata": {
        "colab": {
          "base_uri": "https://localhost:8080/"
        },
        "id": "yyRhn40SNIcz",
        "outputId": "75b03a54-00ac-4d7c-dbf2-2145e5a72716"
      },
      "outputs": [
        {
          "name": "stdout",
          "output_type": "stream",
          "text": [
            "+--------------+---------------+\n",
            "|violation_code|violation_count|\n",
            "+--------------+---------------+\n",
            "|            36|         233908|\n",
            "|             7|          30969|\n",
            "|            40|          28792|\n",
            "+--------------+---------------+\n",
            "\n"
          ]
        }
      ],
      "source": [
        "# Three most commonly occuring violation codes for bin 6 i.e between 8:00 PM to 12:00 AM\n",
        "\n",
        "violation_time_bin6 = spark.sql(\"select Violation_Code as violation_code, count(*) as violation_count \\\n",
        "                                 from violation_time_bins_2022 \\\n",
        "                                 where Violation_Time_Bin == 6 \\\n",
        "                                 group by violation_code \\\n",
        "                                 order by violation_count desc \\\n",
        "                                 limit 3 \")\n",
        "violation_time_bin6.show()"
      ]
    },
    {
      "cell_type": "code",
      "execution_count": null,
      "metadata": {
        "colab": {
          "base_uri": "https://localhost:8080/"
        },
        "id": "fP76tmZINLTx",
        "outputId": "e00b3d3f-2382-4f1c-c5e5-3eee5f6e67f6"
      },
      "outputs": [
        {
          "name": "stdout",
          "output_type": "stream",
          "text": [
            "+--------------+---------------+\n",
            "|violation_code|violation_count|\n",
            "+--------------+---------------+\n",
            "|            36|        2172974|\n",
            "|            21|         781055|\n",
            "|            38|         549389|\n",
            "+--------------+---------------+\n",
            "\n"
          ]
        }
      ],
      "source": [
        "# Now, Let us find the 3 most commonly occuring violation codes amongst all the 6 bins.\n",
        "\n",
        "common_violation_codes_across_bins = spark.sql(\"select Violation_Code as violation_code , count(*) as violation_count \\\n",
        "                                                from violation_time_bins_2022 \\\n",
        "                                                where violation_code in (21, 40, 78, 14, 40, 36, 38, 37, 7,5,20) \\\n",
        "                                                and Violation_Time != ''\\\n",
        "                                                group by violation_code \\\n",
        "                                                order by violation_count desc \\\n",
        "                                                limit 3 \")\n",
        "\n",
        "common_violation_codes_across_bins.show()"
      ]
    },
    {
      "cell_type": "markdown",
      "metadata": {
        "id": "-jYJ9_AjNOrp"
      },
      "source": [
        "6.5.3. Now, try another direction. For the three most commonly occurring violation codes, find the most common time of the day (in terms of the bins from the previous part).\n"
      ]
    },
    {
      "cell_type": "code",
      "execution_count": null,
      "metadata": {
        "colab": {
          "base_uri": "https://localhost:8080/"
        },
        "id": "FFT0GXIYNRZV",
        "outputId": "74c3eeae-c604-427f-ef3f-0fd81632e7e2"
      },
      "outputs": [
        {
          "name": "stdout",
          "output_type": "stream",
          "text": [
            "+------------------+---------------+\n",
            "|violation_time_bin|violation_count|\n",
            "+------------------+---------------+\n",
            "|                 3|        1386849|\n",
            "|                 4|         962923|\n",
            "|                 5|         605139|\n",
            "|                 2|         270772|\n",
            "|                 6|         252819|\n",
            "|                 1|          24913|\n",
            "+------------------+---------------+\n",
            "only showing top 6 rows\n",
            "\n"
          ]
        }
      ],
      "source": [
        "# For the three most commonly occurring violation codes, find the most common time of the day (in terms of the bins from the \n",
        "# previous part\n",
        "\n",
        "common_time_for_violation = spark.sql(\"select Violation_Time_bin as violation_time_bin, count(*) as violation_count \\\n",
        "                                       from violation_time_bins_2022 \\\n",
        "                                       where Violation_Code in (21, 36, 38) \\\n",
        "                                       group by Violation_Time_bin \\\n",
        "                                       order by violation_count desc\")\n",
        "common_time_for_violation.show(6)"
      ]
    },
    {
      "cell_type": "markdown",
      "metadata": {
        "id": "nX0aciTZNzoc"
      },
      "source": [
        "3 - 8.00 AM to 12.00 PM\n",
        "\n",
        "1 - 12.00 AM to 4.00 AM"
      ]
    },
    {
      "cell_type": "markdown",
      "metadata": {
        "id": "RHxSrRzlNXPe"
      },
      "source": [
        "# 6.6.1. Divide the year into a certain number of seasons, and find the frequencies of tickets for each season."
      ]
    },
    {
      "cell_type": "code",
      "execution_count": null,
      "metadata": {
        "colab": {
          "base_uri": "https://localhost:8080/"
        },
        "id": "8D6qSIUhNT85",
        "outputId": "dcbc27b8-6c9c-4196-af43-c33a062b9434"
      },
      "outputs": [
        {
          "name": "stdout",
          "output_type": "stream",
          "text": [
            "+--------------+----------+--------------+------+\n",
            "|Summons_Number|Issue_Date|Violation_Code|Season|\n",
            "+--------------+----------+--------------+------+\n",
            "|    1472427087|07/18/2022|            46|summer|\n",
            "|    1472133560|07/01/2022|            78|summer|\n",
            "|    1474450842|07/14/2022|            46|summer|\n",
            "|    1473476173|07/05/2022|            14|summer|\n",
            "|    1476043383|07/02/2022|            20|summer|\n",
            "|    1478293986|07/20/2022|            14|summer|\n",
            "|    1484274763|07/04/2022|            14|summer|\n",
            "|    1484277508|02/04/2022|            14|winter|\n",
            "|    1484365173|07/16/2022|            98|summer|\n",
            "|    1483869519|07/18/2022|            50|summer|\n",
            "+--------------+----------+--------------+------+\n",
            "only showing top 10 rows\n",
            "\n"
          ]
        }
      ],
      "source": [
        "# First let us divide the year into seasons based on the Issue Date\n",
        "\n",
        "# We shall divide the 4 seasons based on Issue Date as follows\n",
        "\n",
        "#     Spring = March to May\n",
        "#     Summer = June to August\n",
        "#     Autumn = September to November\n",
        "#     winter = December to February\n",
        "\n",
        "seasons2022 = spark.sql(\"select Summons_Number, Issue_Date, Violation_Code,  \\\n",
        "                        case \\\n",
        "                            when MONTH(TO_DATE(Issue_Date, 'MM/dd/yyyy')) between 03 and 05 \\\n",
        "                                then 'spring' \\\n",
        "                            when MONTH(TO_DATE(Issue_Date, 'MM/dd/yyyy')) between 06 and 08 \\\n",
        "                                then 'summer' \\\n",
        "                            when MONTH(TO_DATE(Issue_Date, 'MM/dd/yyyy')) between 09 and 11 \\\n",
        "                                then 'autumn' \\\n",
        "                            when MONTH(TO_DATE(Issue_Date, 'MM/dd/yyyy')) in (1,2,12) \\\n",
        "                                then 'winter' \\\n",
        "                            else 'unknown' \\\n",
        "                        end as Season \\\n",
        "                        from parking_2022\")\n",
        "\n",
        "seasons2022.show(10)"
      ]
    },
    {
      "cell_type": "code",
      "execution_count": null,
      "metadata": {
        "id": "tYT6PEovNdv1"
      },
      "outputs": [],
      "source": [
        "# Create/Replace a Temp View\n",
        "\n",
        "seasons2022.createOrReplaceTempView(\"seasons_2022\")"
      ]
    },
    {
      "cell_type": "code",
      "execution_count": null,
      "metadata": {
        "colab": {
          "base_uri": "https://localhost:8080/"
        },
        "id": "ObInXxmgNtkp",
        "outputId": "c449a347-0048-4aae-ce14-e308aadb03e7"
      },
      "outputs": [
        {
          "name": "stdout",
          "output_type": "stream",
          "text": [
            "+------+----------------+\n",
            "|season|ticket_frequency|\n",
            "+------+----------------+\n",
            "|spring|         4065577|\n",
            "|winter|         2174542|\n",
            "|summer|         1124593|\n",
            "|autumn|             177|\n",
            "+------+----------------+\n",
            "\n"
          ]
        }
      ],
      "source": [
        "# Frequency of tickets based on season\n",
        "\n",
        "parking_violations_on_seasons = spark.sql(\"select Season as season, count(*) as ticket_frequency \\\n",
        "                                           from seasons_2022 \\\n",
        "                                           group by season \\\n",
        "                                           order by ticket_frequency desc\")\n",
        "parking_violations_on_seasons.show()"
      ]
    },
    {
      "cell_type": "code",
      "execution_count": null,
      "metadata": {
        "id": "T5TE_expQ6by"
      },
      "outputs": [],
      "source": []
    },
    {
      "cell_type": "markdown",
      "metadata": {
        "id": "mJ833hjAOh0J"
      },
      "source": [
        "Autum is a tourist wid dowN period"
      ]
    },
    {
      "cell_type": "code",
      "execution_count": null,
      "metadata": {
        "id": "xT6FpF4UQ63t"
      },
      "outputs": [],
      "source": []
    },
    {
      "cell_type": "code",
      "execution_count": null,
      "metadata": {
        "id": "VhrrAOYgR4Bw"
      },
      "outputs": [],
      "source": [
        "#6.6.2. Find the three most common violations for each of these seasons."
      ]
    },
    {
      "cell_type": "code",
      "execution_count": null,
      "metadata": {
        "id": "ssEn43RTR71h"
      },
      "outputs": [],
      "source": [
        "# Three most commonly occuring violation for spring i.e. from March to May\n",
        "\n",
        "spring = spark.sql(\"select Violation_Code as violation_code, count(*) as violation_count \\\n",
        "                    from seasons_2022 \\\n",
        "                    where Season == 'spring' \\\n",
        "                    group by violation_code \\\n",
        "                    order by violation_count desc \\\n",
        "                    limit 3 \")\n",
        "spring.show()"
      ]
    },
    {
      "cell_type": "code",
      "execution_count": null,
      "metadata": {
        "colab": {
          "base_uri": "https://localhost:8080/"
        },
        "id": "GR6Xg-BaSB8L",
        "outputId": "69bdcd54-042a-4122-96b6-cb5707e679f7"
      },
      "outputs": [
        {
          "name": "stdout",
          "output_type": "stream",
          "text": [
            "+--------------+---------------+\n",
            "|violation_code|violation_count|\n",
            "+--------------+---------------+\n",
            "|            36|         700174|\n",
            "|            21|         192766|\n",
            "|            38|         157576|\n",
            "+--------------+---------------+\n",
            "\n"
          ]
        }
      ],
      "source": [
        "# Three most commonly occuring violation for winter i.e. from December to February\n",
        "\n",
        "winter = spark.sql(\"select Violation_Code as violation_code, count(*) as violation_count \\\n",
        "                    from seasons_2022 \\\n",
        "                    where Season == 'winter' \\\n",
        "                    group by violation_code \\\n",
        "                    order by violation_count desc \\\n",
        "                    limit 3 \")\n",
        "winter.show()"
      ]
    },
    {
      "cell_type": "code",
      "execution_count": null,
      "metadata": {
        "colab": {
          "base_uri": "https://localhost:8080/"
        },
        "id": "_WzIaC9SSEvi",
        "outputId": "a9a903fa-db16-4377-b495-b2aa9c05d9fe"
      },
      "outputs": [
        {
          "name": "stdout",
          "output_type": "stream",
          "text": [
            "+--------------+---------------+\n",
            "|violation_code|violation_count|\n",
            "+--------------+---------------+\n",
            "|            36|         336455|\n",
            "|            21|         151927|\n",
            "|            38|          84705|\n",
            "+--------------+---------------+\n",
            "\n"
          ]
        }
      ],
      "source": [
        "# Three most commonly occuring violation for summer i.e. from June to September\n",
        "\n",
        "summer = spark.sql(\"select Violation_Code as violation_code, count(*) as violation_count \\\n",
        "                    from seasons_2022 \\\n",
        "                    where Season == 'summer' \\\n",
        "                    group by violation_code \\\n",
        "                    order by violation_count desc \\\n",
        "                    limit 3 \")\n",
        "summer.show()"
      ]
    },
    {
      "cell_type": "code",
      "execution_count": null,
      "metadata": {
        "colab": {
          "background_save": true
        },
        "id": "Klo-oM5gSHSu",
        "outputId": "23b6e23c-b7c4-4a9f-c428-f2f647a5d9fa"
      },
      "outputs": [
        {
          "name": "stdout",
          "output_type": "stream",
          "text": [
            "+--------------+---------------+\n",
            "|violation_code|violation_count|\n",
            "+--------------+---------------+\n",
            "|            98|             38|\n",
            "|            40|             36|\n",
            "|            46|             28|\n",
            "+--------------+---------------+\n",
            "\n"
          ]
        }
      ],
      "source": [
        "# Three most commonly occuring violation for autumn i.e. from September to November\n",
        "\n",
        "autumn = spark.sql(\"select Violation_Code as violation_code, count(*) as violation_count \\\n",
        "                    from seasons_2022 \\\n",
        "                    where Season == 'autumn' \\\n",
        "                    group by violation_code \\\n",
        "                    order by violation_count desc \\\n",
        "                    limit 3 \")\n",
        "autumn.show()"
      ]
    },
    {
      "cell_type": "markdown",
      "metadata": {
        "id": "EB8wpk2CSMub"
      },
      "source": [
        "6.7. The fines collected from all the instances of parking violation constitute a source of revenue for the NYC Police Department. Let’s take an example of estimating this for the three most commonly occurring codes:\n",
        "- Find the total occurrences of the three most common violation codes.      \n",
        "- Then, visit the website: http://www1.nyc.gov/site/finance/vehicles/services-violation-codes.page\n",
        "  It lists the fines associated with different violation codes. They’re divided into two categories: one for \n",
        "  the highest-density locations in the city and the other for the rest of the city. For the sake of simplicity, \n",
        "  take the average of the two.\n",
        "- Using this information, find the total amount collected for the three violation codes with the maximum tickets.\n",
        "  State the code that has the highest total collection.\n",
        "- What can you intuitively infer from these findings?"
      ]
    },
    {
      "cell_type": "code",
      "execution_count": null,
      "metadata": {
        "colab": {
          "base_uri": "https://localhost:8080/"
        },
        "id": "QkYAo0yZSN_i",
        "outputId": "65dc82c6-57af-48bf-c9e3-c4ed8f824116"
      },
      "outputs": [
        {
          "name": "stdout",
          "output_type": "stream",
          "text": [
            "+--------------+----------------+\n",
            "|violation_code|ticket_frequency|\n",
            "+--------------+----------------+\n",
            "|            36|         2172974|\n",
            "|            21|          781055|\n",
            "|            38|          549389|\n",
            "+--------------+----------------+\n",
            "\n"
          ]
        }
      ],
      "source": [
        "#6.7.1 Find the total occurrences of the three most common violation codes.\n",
        "top_3_common_violations = spark.sql(\"select Violation_Code as violation_code, count(*) as ticket_frequency \\\n",
        "                                    from parking_2022 \\\n",
        "                                    group by violation_code \\\n",
        "                                    order by ticket_frequency desc \\\n",
        "                                    limit 3\")\n",
        "top_3_common_violations.show()"
      ]
    },
    {
      "cell_type": "code",
      "execution_count": null,
      "metadata": {
        "colab": {
          "base_uri": "https://localhost:8080/"
        },
        "id": "I-tLa8WlSRY7",
        "outputId": "de96b7cc-2b23-4a14-f17b-5604195b56c0"
      },
      "outputs": [
        {
          "name": "stdout",
          "output_type": "stream",
          "text": [
            "+--------------+----------------+-----------+\n",
            "|violation_code|ticket_frequency|fine_amount|\n",
            "+--------------+----------------+-----------+\n",
            "|            36|         2172974|  108648700|\n",
            "|            21|          781055|   42958025|\n",
            "|            38|          549389|   27469450|\n",
            "+--------------+----------------+-----------+\n",
            "\n"
          ]
        }
      ],
      "source": [
        "#6.7.2 Find the total amount collected for the three violation codes with maximum tickets. State the code that has the highest total collection\n",
        "# From the above result we know the top three violation codes.\n",
        "\n",
        "# As per the website, the average prices for the three violation codes are as follows:\n",
        "#   For violation code 21 = (65 + 45)/2 = $55\n",
        "#   For violation code 36 = (50 + 50)/2 = $50\n",
        "#   For violation code 38 = (65 + 35)/2 = $50\n",
        "\n",
        "from pyspark.sql.functions import when\n",
        "\n",
        "common_violations_fine_amount = top_3_common_violations \\\n",
        "                                .withColumn(\"fine_amount\",when(top_3_common_violations.violation_code == 21, \\\n",
        "                                (top_3_common_violations.ticket_frequency) *55) \\\n",
        "                                .otherwise((top_3_common_violations.ticket_frequency)*50))\n",
        "\n",
        "common_violations_fine_amount.show()"
      ]
    },
    {
      "cell_type": "code",
      "execution_count": null,
      "metadata": {
        "colab": {
          "base_uri": "https://localhost:8080/"
        },
        "id": "Qki-gr9qSa9G",
        "outputId": "30890a79-b6cd-4d97-daa9-5af3ab5f8867"
      },
      "outputs": [
        {
          "name": "stdout",
          "output_type": "stream",
          "text": [
            "Total amount collected for the three violation codes with maximum tickets :  [Row(sum(fine_amount)=179076175)]\n"
          ]
        }
      ],
      "source": [
        "# Total amount collected for the three violation codes with maximum tickets\n",
        "\n",
        "from pyspark.sql import functions as F\n",
        "\n",
        "total = common_violations_fine_amount.agg(F.sum(\"fine_amount\")).collect()\n",
        "print('Total amount collected for the three violation codes with maximum tickets : ', total)"
      ]
    },
    {
      "cell_type": "code",
      "execution_count": null,
      "metadata": {
        "colab": {
          "background_save": true,
          "base_uri": "https://localhost:8080/"
        },
        "id": "jAe9iYEPScOS",
        "outputId": "6d4ceb72-4619-4502-d086-57880cc430b8"
      },
      "outputs": [
        {
          "name": "stdout",
          "output_type": "stream",
          "text": [
            "+--------------+----------------+-----------+\n",
            "|violation_code|ticket_frequency|fine_amount|\n",
            "+--------------+----------------+-----------+\n",
            "|            36|         2172974|  108648700|\n",
            "+--------------+----------------+-----------+\n",
            "only showing top 1 row\n",
            "\n"
          ]
        }
      ],
      "source": [
        "# State the code that has the highest total collection\n",
        "\n",
        "common_violations_fine_amount.show(1)"
      ]
    },
    {
      "cell_type": "code",
      "execution_count": null,
      "metadata": {
        "id": "TTAkf6w_SeNn"
      },
      "outputs": [],
      "source": [
        "#spark.stop()"
      ]
    }
  ],
  "metadata": {
    "colab": {
      "provenance": []
    },
    "kernelspec": {
      "display_name": "Python 3",
      "name": "python3"
    },
    "language_info": {
      "name": "python"
    }
  },
  "nbformat": 4,
  "nbformat_minor": 0
}